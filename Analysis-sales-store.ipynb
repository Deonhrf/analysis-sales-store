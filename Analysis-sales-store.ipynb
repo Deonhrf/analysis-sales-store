{
 "cells": [
  {
   "cell_type": "markdown",
   "metadata": {},
   "source": [
    "# Analisis Penjualan dan Profitabilitas Terhadap Dataset Toko"
   ]
  },
  {
   "cell_type": "markdown",
   "metadata": {},
   "source": [
    "Analisis Terhadap Dataset tersebut :\n",
    "\n",
    "- Menghitung total penjualan untuk setiap kategori dan sub-kategori produk.\n",
    "\n",
    "- Visualisasi tren penjualan dari waktu ke waktu, misalnya perbulan\n",
    "\n",
    "- Hitung profit per produk untuk menentukan produk yang paling menguntungkan"
   ]
  },
  {
   "cell_type": "markdown",
   "metadata": {},
   "source": [
    "Pemahaman Mengenai Kolom - Kolom Dataset tersebut :\n",
    "\n",
    "- Row id -> Nomor identifikasi unik untuk setiap baris dalam dataset\n",
    "\n",
    "- Order id -> Nomor identifikasi untuk setiap pesanan\n",
    "\n",
    "- Order date -> Tanggal ketika pesanan dibuat\n",
    "\n",
    "- ship date -> Tanggal ketika pesanan dikirim\n",
    "\n",
    "- Ship mode -> Metode pengiriman yang digunakan untuk pesanan\n",
    "\n",
    "- customer id -> Nomor identifikasi untuk setiap pelanggan\n",
    "\n",
    "- customer nama -> Nama pelanggan yang melakukan pembelian\n",
    "\n",
    "- segment -> Kategori pelanggan\n",
    "\n",
    "- country -> Negara tempat pelanggan berada \n",
    "\n",
    "- city -> Kota tempat pelanggan berada\n",
    "\n",
    "- State -> Negara bagian tempat pelanggan berada (khusus untuk AS)\n",
    "\n",
    "- Postal Code -> Kode pos untuk alamat pelanggan\n",
    "\n",
    "- Region -> Wilayah geografis di mana pelanggan berada (misalnya, North, South, East, West)\n",
    "\n",
    "- Product ID -> Nomor identifikasi unik untuk setiap produk\n",
    "\n",
    "- Category -> Kategori produk, seperti Furniture, Office Supplies, atau Technology\n",
    "\n",
    "- Sub-Category -> Sub-kategori yang lebih spesifik dari kategori produk\n",
    "\n",
    "- Product Name -> Nama produk yang dijual\n",
    "\n",
    "- Sales -> Total penjualan untuk produk dalam pesanan (dalam mata uang)\n",
    "\n",
    "- Quantity -> Jumlah unit produk yang dipesan\n",
    "\n",
    "- Discount -> Persentase diskon yang diterapkan pada produk (jika ada)\n",
    "\n",
    "- Profit -> Total profit yang dihasilkan dari penjualan produk setelah memperhitungkan biaya (dalam mata uang)"
   ]
  },
  {
   "cell_type": "code",
   "execution_count": 50,
   "metadata": {},
   "outputs": [],
   "source": [
    "import pandas as pd\n",
    "import matplotlib.pyplot as plt\n",
    "import seaborn as sns\n",
    "import numpy as np\n",
    "import plotly.express as px"
   ]
  },
  {
   "cell_type": "code",
   "execution_count": 51,
   "metadata": {},
   "outputs": [
    {
     "data": {
      "text/html": [
       "<div>\n",
       "<style scoped>\n",
       "    .dataframe tbody tr th:only-of-type {\n",
       "        vertical-align: middle;\n",
       "    }\n",
       "\n",
       "    .dataframe tbody tr th {\n",
       "        vertical-align: top;\n",
       "    }\n",
       "\n",
       "    .dataframe thead th {\n",
       "        text-align: right;\n",
       "    }\n",
       "</style>\n",
       "<table border=\"1\" class=\"dataframe\">\n",
       "  <thead>\n",
       "    <tr style=\"text-align: right;\">\n",
       "      <th></th>\n",
       "      <th>Row ID</th>\n",
       "      <th>Order ID</th>\n",
       "      <th>Order Date</th>\n",
       "      <th>Ship Date</th>\n",
       "      <th>Ship Mode</th>\n",
       "      <th>Customer ID</th>\n",
       "      <th>Customer Name</th>\n",
       "      <th>Segment</th>\n",
       "      <th>Country</th>\n",
       "      <th>City</th>\n",
       "      <th>...</th>\n",
       "      <th>Postal Code</th>\n",
       "      <th>Region</th>\n",
       "      <th>Product ID</th>\n",
       "      <th>Category</th>\n",
       "      <th>Sub-Category</th>\n",
       "      <th>Product Name</th>\n",
       "      <th>Sales</th>\n",
       "      <th>Quantity</th>\n",
       "      <th>Discount</th>\n",
       "      <th>Profit</th>\n",
       "    </tr>\n",
       "  </thead>\n",
       "  <tbody>\n",
       "    <tr>\n",
       "      <th>0</th>\n",
       "      <td>1</td>\n",
       "      <td>CA-2016-152156</td>\n",
       "      <td>11/8/2016</td>\n",
       "      <td>11/11/2016</td>\n",
       "      <td>Second Class</td>\n",
       "      <td>CG-12520</td>\n",
       "      <td>Claire Gute</td>\n",
       "      <td>Consumer</td>\n",
       "      <td>United States</td>\n",
       "      <td>Henderson</td>\n",
       "      <td>...</td>\n",
       "      <td>42420</td>\n",
       "      <td>South</td>\n",
       "      <td>FUR-BO-10001798</td>\n",
       "      <td>Furniture</td>\n",
       "      <td>Bookcases</td>\n",
       "      <td>Bush Somerset Collection Bookcase</td>\n",
       "      <td>26196</td>\n",
       "      <td>2</td>\n",
       "      <td>0</td>\n",
       "      <td>419136</td>\n",
       "    </tr>\n",
       "    <tr>\n",
       "      <th>1</th>\n",
       "      <td>2</td>\n",
       "      <td>CA-2016-152156</td>\n",
       "      <td>11/8/2016</td>\n",
       "      <td>11/11/2016</td>\n",
       "      <td>Second Class</td>\n",
       "      <td>CG-12520</td>\n",
       "      <td>Claire Gute</td>\n",
       "      <td>Consumer</td>\n",
       "      <td>United States</td>\n",
       "      <td>Henderson</td>\n",
       "      <td>...</td>\n",
       "      <td>42420</td>\n",
       "      <td>South</td>\n",
       "      <td>FUR-CH-10000454</td>\n",
       "      <td>Furniture</td>\n",
       "      <td>Chairs</td>\n",
       "      <td>Hon Deluxe Fabric Upholstered Stacking Chairs,...</td>\n",
       "      <td>73194</td>\n",
       "      <td>3</td>\n",
       "      <td>0</td>\n",
       "      <td>219582</td>\n",
       "    </tr>\n",
       "    <tr>\n",
       "      <th>2</th>\n",
       "      <td>4</td>\n",
       "      <td>US-2015-108966</td>\n",
       "      <td>10/11/2015</td>\n",
       "      <td>10/18/2015</td>\n",
       "      <td>Standard Class</td>\n",
       "      <td>SO-20335</td>\n",
       "      <td>Sean O'Donnell</td>\n",
       "      <td>Consumer</td>\n",
       "      <td>United States</td>\n",
       "      <td>Fort Lauderdale</td>\n",
       "      <td>...</td>\n",
       "      <td>33311</td>\n",
       "      <td>South</td>\n",
       "      <td>FUR-TA-10000577</td>\n",
       "      <td>Furniture</td>\n",
       "      <td>Tables</td>\n",
       "      <td>Bretford CR4500 Series Slim Rectangular Table</td>\n",
       "      <td>9575775</td>\n",
       "      <td>5</td>\n",
       "      <td>45</td>\n",
       "      <td>-383031</td>\n",
       "    </tr>\n",
       "    <tr>\n",
       "      <th>3</th>\n",
       "      <td>6</td>\n",
       "      <td>CA-2014-115812</td>\n",
       "      <td>6/9/2014</td>\n",
       "      <td>6/14/2014</td>\n",
       "      <td>Standard Class</td>\n",
       "      <td>BH-11710</td>\n",
       "      <td>Brosina Hoffman</td>\n",
       "      <td>Consumer</td>\n",
       "      <td>United States</td>\n",
       "      <td>Los Angeles</td>\n",
       "      <td>...</td>\n",
       "      <td>90032</td>\n",
       "      <td>West</td>\n",
       "      <td>FUR-FU-10001487</td>\n",
       "      <td>Furniture</td>\n",
       "      <td>Furnishings</td>\n",
       "      <td>Eldon Expressions Wood and Plastic Desk Access...</td>\n",
       "      <td>4886</td>\n",
       "      <td>7</td>\n",
       "      <td>0</td>\n",
       "      <td>141694</td>\n",
       "    </tr>\n",
       "    <tr>\n",
       "      <th>4</th>\n",
       "      <td>11</td>\n",
       "      <td>CA-2014-115812</td>\n",
       "      <td>6/9/2014</td>\n",
       "      <td>6/14/2014</td>\n",
       "      <td>Standard Class</td>\n",
       "      <td>BH-11710</td>\n",
       "      <td>Brosina Hoffman</td>\n",
       "      <td>Consumer</td>\n",
       "      <td>United States</td>\n",
       "      <td>Los Angeles</td>\n",
       "      <td>...</td>\n",
       "      <td>90032</td>\n",
       "      <td>West</td>\n",
       "      <td>FUR-TA-10001539</td>\n",
       "      <td>Furniture</td>\n",
       "      <td>Tables</td>\n",
       "      <td>Chromcraft Rectangular Conference Tables</td>\n",
       "      <td>1706184</td>\n",
       "      <td>9</td>\n",
       "      <td>2</td>\n",
       "      <td>853092</td>\n",
       "    </tr>\n",
       "    <tr>\n",
       "      <th>...</th>\n",
       "      <td>...</td>\n",
       "      <td>...</td>\n",
       "      <td>...</td>\n",
       "      <td>...</td>\n",
       "      <td>...</td>\n",
       "      <td>...</td>\n",
       "      <td>...</td>\n",
       "      <td>...</td>\n",
       "      <td>...</td>\n",
       "      <td>...</td>\n",
       "      <td>...</td>\n",
       "      <td>...</td>\n",
       "      <td>...</td>\n",
       "      <td>...</td>\n",
       "      <td>...</td>\n",
       "      <td>...</td>\n",
       "      <td>...</td>\n",
       "      <td>...</td>\n",
       "      <td>...</td>\n",
       "      <td>...</td>\n",
       "      <td>...</td>\n",
       "    </tr>\n",
       "    <tr>\n",
       "      <th>2116</th>\n",
       "      <td>9963</td>\n",
       "      <td>CA-2015-168088</td>\n",
       "      <td>3/19/2015</td>\n",
       "      <td>3/22/2015</td>\n",
       "      <td>First Class</td>\n",
       "      <td>CM-12655</td>\n",
       "      <td>Corinna Mitchell</td>\n",
       "      <td>Home Office</td>\n",
       "      <td>United States</td>\n",
       "      <td>Houston</td>\n",
       "      <td>...</td>\n",
       "      <td>77041</td>\n",
       "      <td>Central</td>\n",
       "      <td>FUR-BO-10004218</td>\n",
       "      <td>Furniture</td>\n",
       "      <td>Bookcases</td>\n",
       "      <td>Bush Heritage Pine Collection 5-Shelf Bookcase...</td>\n",
       "      <td>3834656</td>\n",
       "      <td>4</td>\n",
       "      <td>32</td>\n",
       "      <td>-676704</td>\n",
       "    </tr>\n",
       "    <tr>\n",
       "      <th>2117</th>\n",
       "      <td>9965</td>\n",
       "      <td>CA-2016-146374</td>\n",
       "      <td>12/5/2016</td>\n",
       "      <td>12/10/2016</td>\n",
       "      <td>Second Class</td>\n",
       "      <td>HE-14800</td>\n",
       "      <td>Harold Engle</td>\n",
       "      <td>Corporate</td>\n",
       "      <td>United States</td>\n",
       "      <td>Newark</td>\n",
       "      <td>...</td>\n",
       "      <td>19711</td>\n",
       "      <td>East</td>\n",
       "      <td>FUR-FU-10002671</td>\n",
       "      <td>Furniture</td>\n",
       "      <td>Furnishings</td>\n",
       "      <td>Electrix 20W Halogen Replacement Bulb for Zoom...</td>\n",
       "      <td>134</td>\n",
       "      <td>1</td>\n",
       "      <td>0</td>\n",
       "      <td>6432</td>\n",
       "    </tr>\n",
       "    <tr>\n",
       "      <th>2118</th>\n",
       "      <td>9981</td>\n",
       "      <td>US-2015-151435</td>\n",
       "      <td>9/6/2015</td>\n",
       "      <td>9/9/2015</td>\n",
       "      <td>Second Class</td>\n",
       "      <td>SW-20455</td>\n",
       "      <td>Shaun Weien</td>\n",
       "      <td>Consumer</td>\n",
       "      <td>United States</td>\n",
       "      <td>Lafayette</td>\n",
       "      <td>...</td>\n",
       "      <td>70506</td>\n",
       "      <td>South</td>\n",
       "      <td>FUR-TA-10001039</td>\n",
       "      <td>Furniture</td>\n",
       "      <td>Tables</td>\n",
       "      <td>KI Adjustable-Height Table</td>\n",
       "      <td>8598</td>\n",
       "      <td>1</td>\n",
       "      <td>0</td>\n",
       "      <td>223548</td>\n",
       "    </tr>\n",
       "    <tr>\n",
       "      <th>2119</th>\n",
       "      <td>9990</td>\n",
       "      <td>CA-2014-110422</td>\n",
       "      <td>1/21/2014</td>\n",
       "      <td>1/23/2014</td>\n",
       "      <td>Second Class</td>\n",
       "      <td>TB-21400</td>\n",
       "      <td>Tom Boeckenhauer</td>\n",
       "      <td>Consumer</td>\n",
       "      <td>United States</td>\n",
       "      <td>Miami</td>\n",
       "      <td>...</td>\n",
       "      <td>33180</td>\n",
       "      <td>South</td>\n",
       "      <td>FUR-FU-10001889</td>\n",
       "      <td>Furniture</td>\n",
       "      <td>Furnishings</td>\n",
       "      <td>Ultra Door Pull Handle</td>\n",
       "      <td>25248</td>\n",
       "      <td>3</td>\n",
       "      <td>2</td>\n",
       "      <td>41028</td>\n",
       "    </tr>\n",
       "    <tr>\n",
       "      <th>2120</th>\n",
       "      <td>9991</td>\n",
       "      <td>CA-2017-121258</td>\n",
       "      <td>2/26/2017</td>\n",
       "      <td>3/3/2017</td>\n",
       "      <td>Standard Class</td>\n",
       "      <td>DB-13060</td>\n",
       "      <td>Dave Brooks</td>\n",
       "      <td>Consumer</td>\n",
       "      <td>United States</td>\n",
       "      <td>Costa Mesa</td>\n",
       "      <td>...</td>\n",
       "      <td>92627</td>\n",
       "      <td>West</td>\n",
       "      <td>FUR-FU-10000747</td>\n",
       "      <td>Furniture</td>\n",
       "      <td>Furnishings</td>\n",
       "      <td>Tenex B1-RE Series Chair Mats for Low Pile Car...</td>\n",
       "      <td>9196</td>\n",
       "      <td>2</td>\n",
       "      <td>0</td>\n",
       "      <td>156332</td>\n",
       "    </tr>\n",
       "  </tbody>\n",
       "</table>\n",
       "<p>2121 rows × 21 columns</p>\n",
       "</div>"
      ],
      "text/plain": [
       "      Row ID        Order ID  Order Date   Ship Date       Ship Mode  \\\n",
       "0          1  CA-2016-152156   11/8/2016  11/11/2016    Second Class   \n",
       "1          2  CA-2016-152156   11/8/2016  11/11/2016    Second Class   \n",
       "2          4  US-2015-108966  10/11/2015  10/18/2015  Standard Class   \n",
       "3          6  CA-2014-115812    6/9/2014   6/14/2014  Standard Class   \n",
       "4         11  CA-2014-115812    6/9/2014   6/14/2014  Standard Class   \n",
       "...      ...             ...         ...         ...             ...   \n",
       "2116    9963  CA-2015-168088   3/19/2015   3/22/2015     First Class   \n",
       "2117    9965  CA-2016-146374   12/5/2016  12/10/2016    Second Class   \n",
       "2118    9981  US-2015-151435    9/6/2015    9/9/2015    Second Class   \n",
       "2119    9990  CA-2014-110422   1/21/2014   1/23/2014    Second Class   \n",
       "2120    9991  CA-2017-121258   2/26/2017    3/3/2017  Standard Class   \n",
       "\n",
       "     Customer ID     Customer Name      Segment        Country  \\\n",
       "0       CG-12520       Claire Gute     Consumer  United States   \n",
       "1       CG-12520       Claire Gute     Consumer  United States   \n",
       "2       SO-20335    Sean O'Donnell     Consumer  United States   \n",
       "3       BH-11710   Brosina Hoffman     Consumer  United States   \n",
       "4       BH-11710   Brosina Hoffman     Consumer  United States   \n",
       "...          ...               ...          ...            ...   \n",
       "2116    CM-12655  Corinna Mitchell  Home Office  United States   \n",
       "2117    HE-14800      Harold Engle    Corporate  United States   \n",
       "2118    SW-20455       Shaun Weien     Consumer  United States   \n",
       "2119    TB-21400  Tom Boeckenhauer     Consumer  United States   \n",
       "2120    DB-13060       Dave Brooks     Consumer  United States   \n",
       "\n",
       "                 City  ... Postal Code   Region       Product ID   Category  \\\n",
       "0           Henderson  ...       42420    South  FUR-BO-10001798  Furniture   \n",
       "1           Henderson  ...       42420    South  FUR-CH-10000454  Furniture   \n",
       "2     Fort Lauderdale  ...       33311    South  FUR-TA-10000577  Furniture   \n",
       "3         Los Angeles  ...       90032     West  FUR-FU-10001487  Furniture   \n",
       "4         Los Angeles  ...       90032     West  FUR-TA-10001539  Furniture   \n",
       "...               ...  ...         ...      ...              ...        ...   \n",
       "2116          Houston  ...       77041  Central  FUR-BO-10004218  Furniture   \n",
       "2117           Newark  ...       19711     East  FUR-FU-10002671  Furniture   \n",
       "2118        Lafayette  ...       70506    South  FUR-TA-10001039  Furniture   \n",
       "2119            Miami  ...       33180    South  FUR-FU-10001889  Furniture   \n",
       "2120       Costa Mesa  ...       92627     West  FUR-FU-10000747  Furniture   \n",
       "\n",
       "     Sub-Category                                       Product Name    Sales  \\\n",
       "0       Bookcases                  Bush Somerset Collection Bookcase    26196   \n",
       "1          Chairs  Hon Deluxe Fabric Upholstered Stacking Chairs,...    73194   \n",
       "2          Tables      Bretford CR4500 Series Slim Rectangular Table  9575775   \n",
       "3     Furnishings  Eldon Expressions Wood and Plastic Desk Access...     4886   \n",
       "4          Tables           Chromcraft Rectangular Conference Tables  1706184   \n",
       "...           ...                                                ...      ...   \n",
       "2116    Bookcases  Bush Heritage Pine Collection 5-Shelf Bookcase...  3834656   \n",
       "2117  Furnishings  Electrix 20W Halogen Replacement Bulb for Zoom...      134   \n",
       "2118       Tables                         KI Adjustable-Height Table     8598   \n",
       "2119  Furnishings                             Ultra Door Pull Handle    25248   \n",
       "2120  Furnishings  Tenex B1-RE Series Chair Mats for Low Pile Car...     9196   \n",
       "\n",
       "      Quantity  Discount  Profit  \n",
       "0            2         0  419136  \n",
       "1            3         0  219582  \n",
       "2            5        45 -383031  \n",
       "3            7         0  141694  \n",
       "4            9         2  853092  \n",
       "...        ...       ...     ...  \n",
       "2116         4        32 -676704  \n",
       "2117         1         0    6432  \n",
       "2118         1         0  223548  \n",
       "2119         3         2   41028  \n",
       "2120         2         0  156332  \n",
       "\n",
       "[2121 rows x 21 columns]"
      ]
     },
     "execution_count": 51,
     "metadata": {},
     "output_type": "execute_result"
    }
   ],
   "source": [
    "data = pd.read_csv('store-sales-analysis.csv', sep= ';')\n",
    "data"
   ]
  },
  {
   "cell_type": "code",
   "execution_count": 52,
   "metadata": {},
   "outputs": [
    {
     "data": {
      "text/html": [
       "<div>\n",
       "<style scoped>\n",
       "    .dataframe tbody tr th:only-of-type {\n",
       "        vertical-align: middle;\n",
       "    }\n",
       "\n",
       "    .dataframe tbody tr th {\n",
       "        vertical-align: top;\n",
       "    }\n",
       "\n",
       "    .dataframe thead th {\n",
       "        text-align: right;\n",
       "    }\n",
       "</style>\n",
       "<table border=\"1\" class=\"dataframe\">\n",
       "  <thead>\n",
       "    <tr style=\"text-align: right;\">\n",
       "      <th></th>\n",
       "      <th>Row ID</th>\n",
       "      <th>Order ID</th>\n",
       "      <th>Order Date</th>\n",
       "      <th>Ship Date</th>\n",
       "      <th>Ship Mode</th>\n",
       "      <th>Customer ID</th>\n",
       "      <th>Customer Name</th>\n",
       "      <th>Segment</th>\n",
       "      <th>Country</th>\n",
       "      <th>City</th>\n",
       "      <th>...</th>\n",
       "      <th>Postal Code</th>\n",
       "      <th>Region</th>\n",
       "      <th>Product ID</th>\n",
       "      <th>Category</th>\n",
       "      <th>Sub-Category</th>\n",
       "      <th>Product Name</th>\n",
       "      <th>Sales</th>\n",
       "      <th>Quantity</th>\n",
       "      <th>Discount</th>\n",
       "      <th>Profit</th>\n",
       "    </tr>\n",
       "  </thead>\n",
       "  <tbody>\n",
       "    <tr>\n",
       "      <th>0</th>\n",
       "      <td>1</td>\n",
       "      <td>CA-2016-152156</td>\n",
       "      <td>11/8/2016</td>\n",
       "      <td>11/11/2016</td>\n",
       "      <td>Second Class</td>\n",
       "      <td>CG-12520</td>\n",
       "      <td>Claire Gute</td>\n",
       "      <td>Consumer</td>\n",
       "      <td>United States</td>\n",
       "      <td>Henderson</td>\n",
       "      <td>...</td>\n",
       "      <td>42420</td>\n",
       "      <td>South</td>\n",
       "      <td>FUR-BO-10001798</td>\n",
       "      <td>Furniture</td>\n",
       "      <td>Bookcases</td>\n",
       "      <td>Bush Somerset Collection Bookcase</td>\n",
       "      <td>26196</td>\n",
       "      <td>2</td>\n",
       "      <td>0</td>\n",
       "      <td>419136</td>\n",
       "    </tr>\n",
       "    <tr>\n",
       "      <th>1</th>\n",
       "      <td>2</td>\n",
       "      <td>CA-2016-152156</td>\n",
       "      <td>11/8/2016</td>\n",
       "      <td>11/11/2016</td>\n",
       "      <td>Second Class</td>\n",
       "      <td>CG-12520</td>\n",
       "      <td>Claire Gute</td>\n",
       "      <td>Consumer</td>\n",
       "      <td>United States</td>\n",
       "      <td>Henderson</td>\n",
       "      <td>...</td>\n",
       "      <td>42420</td>\n",
       "      <td>South</td>\n",
       "      <td>FUR-CH-10000454</td>\n",
       "      <td>Furniture</td>\n",
       "      <td>Chairs</td>\n",
       "      <td>Hon Deluxe Fabric Upholstered Stacking Chairs,...</td>\n",
       "      <td>73194</td>\n",
       "      <td>3</td>\n",
       "      <td>0</td>\n",
       "      <td>219582</td>\n",
       "    </tr>\n",
       "    <tr>\n",
       "      <th>2</th>\n",
       "      <td>4</td>\n",
       "      <td>US-2015-108966</td>\n",
       "      <td>10/11/2015</td>\n",
       "      <td>10/18/2015</td>\n",
       "      <td>Standard Class</td>\n",
       "      <td>SO-20335</td>\n",
       "      <td>Sean O'Donnell</td>\n",
       "      <td>Consumer</td>\n",
       "      <td>United States</td>\n",
       "      <td>Fort Lauderdale</td>\n",
       "      <td>...</td>\n",
       "      <td>33311</td>\n",
       "      <td>South</td>\n",
       "      <td>FUR-TA-10000577</td>\n",
       "      <td>Furniture</td>\n",
       "      <td>Tables</td>\n",
       "      <td>Bretford CR4500 Series Slim Rectangular Table</td>\n",
       "      <td>9575775</td>\n",
       "      <td>5</td>\n",
       "      <td>45</td>\n",
       "      <td>-383031</td>\n",
       "    </tr>\n",
       "    <tr>\n",
       "      <th>3</th>\n",
       "      <td>6</td>\n",
       "      <td>CA-2014-115812</td>\n",
       "      <td>6/9/2014</td>\n",
       "      <td>6/14/2014</td>\n",
       "      <td>Standard Class</td>\n",
       "      <td>BH-11710</td>\n",
       "      <td>Brosina Hoffman</td>\n",
       "      <td>Consumer</td>\n",
       "      <td>United States</td>\n",
       "      <td>Los Angeles</td>\n",
       "      <td>...</td>\n",
       "      <td>90032</td>\n",
       "      <td>West</td>\n",
       "      <td>FUR-FU-10001487</td>\n",
       "      <td>Furniture</td>\n",
       "      <td>Furnishings</td>\n",
       "      <td>Eldon Expressions Wood and Plastic Desk Access...</td>\n",
       "      <td>4886</td>\n",
       "      <td>7</td>\n",
       "      <td>0</td>\n",
       "      <td>141694</td>\n",
       "    </tr>\n",
       "    <tr>\n",
       "      <th>4</th>\n",
       "      <td>11</td>\n",
       "      <td>CA-2014-115812</td>\n",
       "      <td>6/9/2014</td>\n",
       "      <td>6/14/2014</td>\n",
       "      <td>Standard Class</td>\n",
       "      <td>BH-11710</td>\n",
       "      <td>Brosina Hoffman</td>\n",
       "      <td>Consumer</td>\n",
       "      <td>United States</td>\n",
       "      <td>Los Angeles</td>\n",
       "      <td>...</td>\n",
       "      <td>90032</td>\n",
       "      <td>West</td>\n",
       "      <td>FUR-TA-10001539</td>\n",
       "      <td>Furniture</td>\n",
       "      <td>Tables</td>\n",
       "      <td>Chromcraft Rectangular Conference Tables</td>\n",
       "      <td>1706184</td>\n",
       "      <td>9</td>\n",
       "      <td>2</td>\n",
       "      <td>853092</td>\n",
       "    </tr>\n",
       "  </tbody>\n",
       "</table>\n",
       "<p>5 rows × 21 columns</p>\n",
       "</div>"
      ],
      "text/plain": [
       "   Row ID        Order ID  Order Date   Ship Date       Ship Mode Customer ID  \\\n",
       "0       1  CA-2016-152156   11/8/2016  11/11/2016    Second Class    CG-12520   \n",
       "1       2  CA-2016-152156   11/8/2016  11/11/2016    Second Class    CG-12520   \n",
       "2       4  US-2015-108966  10/11/2015  10/18/2015  Standard Class    SO-20335   \n",
       "3       6  CA-2014-115812    6/9/2014   6/14/2014  Standard Class    BH-11710   \n",
       "4      11  CA-2014-115812    6/9/2014   6/14/2014  Standard Class    BH-11710   \n",
       "\n",
       "     Customer Name   Segment        Country             City  ... Postal Code  \\\n",
       "0      Claire Gute  Consumer  United States        Henderson  ...       42420   \n",
       "1      Claire Gute  Consumer  United States        Henderson  ...       42420   \n",
       "2   Sean O'Donnell  Consumer  United States  Fort Lauderdale  ...       33311   \n",
       "3  Brosina Hoffman  Consumer  United States      Los Angeles  ...       90032   \n",
       "4  Brosina Hoffman  Consumer  United States      Los Angeles  ...       90032   \n",
       "\n",
       "   Region       Product ID   Category Sub-Category  \\\n",
       "0   South  FUR-BO-10001798  Furniture    Bookcases   \n",
       "1   South  FUR-CH-10000454  Furniture       Chairs   \n",
       "2   South  FUR-TA-10000577  Furniture       Tables   \n",
       "3    West  FUR-FU-10001487  Furniture  Furnishings   \n",
       "4    West  FUR-TA-10001539  Furniture       Tables   \n",
       "\n",
       "                                        Product Name    Sales  Quantity  \\\n",
       "0                  Bush Somerset Collection Bookcase    26196         2   \n",
       "1  Hon Deluxe Fabric Upholstered Stacking Chairs,...    73194         3   \n",
       "2      Bretford CR4500 Series Slim Rectangular Table  9575775         5   \n",
       "3  Eldon Expressions Wood and Plastic Desk Access...     4886         7   \n",
       "4           Chromcraft Rectangular Conference Tables  1706184         9   \n",
       "\n",
       "   Discount  Profit  \n",
       "0         0  419136  \n",
       "1         0  219582  \n",
       "2        45 -383031  \n",
       "3         0  141694  \n",
       "4         2  853092  \n",
       "\n",
       "[5 rows x 21 columns]"
      ]
     },
     "execution_count": 52,
     "metadata": {},
     "output_type": "execute_result"
    }
   ],
   "source": [
    "data.head()"
   ]
  },
  {
   "cell_type": "code",
   "execution_count": 53,
   "metadata": {},
   "outputs": [
    {
     "data": {
      "text/html": [
       "<div>\n",
       "<style scoped>\n",
       "    .dataframe tbody tr th:only-of-type {\n",
       "        vertical-align: middle;\n",
       "    }\n",
       "\n",
       "    .dataframe tbody tr th {\n",
       "        vertical-align: top;\n",
       "    }\n",
       "\n",
       "    .dataframe thead th {\n",
       "        text-align: right;\n",
       "    }\n",
       "</style>\n",
       "<table border=\"1\" class=\"dataframe\">\n",
       "  <thead>\n",
       "    <tr style=\"text-align: right;\">\n",
       "      <th></th>\n",
       "      <th>Row ID</th>\n",
       "      <th>Order ID</th>\n",
       "      <th>Order Date</th>\n",
       "      <th>Ship Date</th>\n",
       "      <th>Ship Mode</th>\n",
       "      <th>Customer ID</th>\n",
       "      <th>Customer Name</th>\n",
       "      <th>Segment</th>\n",
       "      <th>Country</th>\n",
       "      <th>City</th>\n",
       "      <th>...</th>\n",
       "      <th>Postal Code</th>\n",
       "      <th>Region</th>\n",
       "      <th>Product ID</th>\n",
       "      <th>Category</th>\n",
       "      <th>Sub-Category</th>\n",
       "      <th>Product Name</th>\n",
       "      <th>Sales</th>\n",
       "      <th>Quantity</th>\n",
       "      <th>Discount</th>\n",
       "      <th>Profit</th>\n",
       "    </tr>\n",
       "  </thead>\n",
       "  <tbody>\n",
       "    <tr>\n",
       "      <th>2116</th>\n",
       "      <td>9963</td>\n",
       "      <td>CA-2015-168088</td>\n",
       "      <td>3/19/2015</td>\n",
       "      <td>3/22/2015</td>\n",
       "      <td>First Class</td>\n",
       "      <td>CM-12655</td>\n",
       "      <td>Corinna Mitchell</td>\n",
       "      <td>Home Office</td>\n",
       "      <td>United States</td>\n",
       "      <td>Houston</td>\n",
       "      <td>...</td>\n",
       "      <td>77041</td>\n",
       "      <td>Central</td>\n",
       "      <td>FUR-BO-10004218</td>\n",
       "      <td>Furniture</td>\n",
       "      <td>Bookcases</td>\n",
       "      <td>Bush Heritage Pine Collection 5-Shelf Bookcase...</td>\n",
       "      <td>3834656</td>\n",
       "      <td>4</td>\n",
       "      <td>32</td>\n",
       "      <td>-676704</td>\n",
       "    </tr>\n",
       "    <tr>\n",
       "      <th>2117</th>\n",
       "      <td>9965</td>\n",
       "      <td>CA-2016-146374</td>\n",
       "      <td>12/5/2016</td>\n",
       "      <td>12/10/2016</td>\n",
       "      <td>Second Class</td>\n",
       "      <td>HE-14800</td>\n",
       "      <td>Harold Engle</td>\n",
       "      <td>Corporate</td>\n",
       "      <td>United States</td>\n",
       "      <td>Newark</td>\n",
       "      <td>...</td>\n",
       "      <td>19711</td>\n",
       "      <td>East</td>\n",
       "      <td>FUR-FU-10002671</td>\n",
       "      <td>Furniture</td>\n",
       "      <td>Furnishings</td>\n",
       "      <td>Electrix 20W Halogen Replacement Bulb for Zoom...</td>\n",
       "      <td>134</td>\n",
       "      <td>1</td>\n",
       "      <td>0</td>\n",
       "      <td>6432</td>\n",
       "    </tr>\n",
       "    <tr>\n",
       "      <th>2118</th>\n",
       "      <td>9981</td>\n",
       "      <td>US-2015-151435</td>\n",
       "      <td>9/6/2015</td>\n",
       "      <td>9/9/2015</td>\n",
       "      <td>Second Class</td>\n",
       "      <td>SW-20455</td>\n",
       "      <td>Shaun Weien</td>\n",
       "      <td>Consumer</td>\n",
       "      <td>United States</td>\n",
       "      <td>Lafayette</td>\n",
       "      <td>...</td>\n",
       "      <td>70506</td>\n",
       "      <td>South</td>\n",
       "      <td>FUR-TA-10001039</td>\n",
       "      <td>Furniture</td>\n",
       "      <td>Tables</td>\n",
       "      <td>KI Adjustable-Height Table</td>\n",
       "      <td>8598</td>\n",
       "      <td>1</td>\n",
       "      <td>0</td>\n",
       "      <td>223548</td>\n",
       "    </tr>\n",
       "    <tr>\n",
       "      <th>2119</th>\n",
       "      <td>9990</td>\n",
       "      <td>CA-2014-110422</td>\n",
       "      <td>1/21/2014</td>\n",
       "      <td>1/23/2014</td>\n",
       "      <td>Second Class</td>\n",
       "      <td>TB-21400</td>\n",
       "      <td>Tom Boeckenhauer</td>\n",
       "      <td>Consumer</td>\n",
       "      <td>United States</td>\n",
       "      <td>Miami</td>\n",
       "      <td>...</td>\n",
       "      <td>33180</td>\n",
       "      <td>South</td>\n",
       "      <td>FUR-FU-10001889</td>\n",
       "      <td>Furniture</td>\n",
       "      <td>Furnishings</td>\n",
       "      <td>Ultra Door Pull Handle</td>\n",
       "      <td>25248</td>\n",
       "      <td>3</td>\n",
       "      <td>2</td>\n",
       "      <td>41028</td>\n",
       "    </tr>\n",
       "    <tr>\n",
       "      <th>2120</th>\n",
       "      <td>9991</td>\n",
       "      <td>CA-2017-121258</td>\n",
       "      <td>2/26/2017</td>\n",
       "      <td>3/3/2017</td>\n",
       "      <td>Standard Class</td>\n",
       "      <td>DB-13060</td>\n",
       "      <td>Dave Brooks</td>\n",
       "      <td>Consumer</td>\n",
       "      <td>United States</td>\n",
       "      <td>Costa Mesa</td>\n",
       "      <td>...</td>\n",
       "      <td>92627</td>\n",
       "      <td>West</td>\n",
       "      <td>FUR-FU-10000747</td>\n",
       "      <td>Furniture</td>\n",
       "      <td>Furnishings</td>\n",
       "      <td>Tenex B1-RE Series Chair Mats for Low Pile Car...</td>\n",
       "      <td>9196</td>\n",
       "      <td>2</td>\n",
       "      <td>0</td>\n",
       "      <td>156332</td>\n",
       "    </tr>\n",
       "  </tbody>\n",
       "</table>\n",
       "<p>5 rows × 21 columns</p>\n",
       "</div>"
      ],
      "text/plain": [
       "      Row ID        Order ID Order Date   Ship Date       Ship Mode  \\\n",
       "2116    9963  CA-2015-168088  3/19/2015   3/22/2015     First Class   \n",
       "2117    9965  CA-2016-146374  12/5/2016  12/10/2016    Second Class   \n",
       "2118    9981  US-2015-151435   9/6/2015    9/9/2015    Second Class   \n",
       "2119    9990  CA-2014-110422  1/21/2014   1/23/2014    Second Class   \n",
       "2120    9991  CA-2017-121258  2/26/2017    3/3/2017  Standard Class   \n",
       "\n",
       "     Customer ID     Customer Name      Segment        Country        City  \\\n",
       "2116    CM-12655  Corinna Mitchell  Home Office  United States     Houston   \n",
       "2117    HE-14800      Harold Engle    Corporate  United States      Newark   \n",
       "2118    SW-20455       Shaun Weien     Consumer  United States   Lafayette   \n",
       "2119    TB-21400  Tom Boeckenhauer     Consumer  United States       Miami   \n",
       "2120    DB-13060       Dave Brooks     Consumer  United States  Costa Mesa   \n",
       "\n",
       "      ... Postal Code   Region       Product ID   Category Sub-Category  \\\n",
       "2116  ...       77041  Central  FUR-BO-10004218  Furniture    Bookcases   \n",
       "2117  ...       19711     East  FUR-FU-10002671  Furniture  Furnishings   \n",
       "2118  ...       70506    South  FUR-TA-10001039  Furniture       Tables   \n",
       "2119  ...       33180    South  FUR-FU-10001889  Furniture  Furnishings   \n",
       "2120  ...       92627     West  FUR-FU-10000747  Furniture  Furnishings   \n",
       "\n",
       "                                           Product Name    Sales  Quantity  \\\n",
       "2116  Bush Heritage Pine Collection 5-Shelf Bookcase...  3834656         4   \n",
       "2117  Electrix 20W Halogen Replacement Bulb for Zoom...      134         1   \n",
       "2118                         KI Adjustable-Height Table     8598         1   \n",
       "2119                             Ultra Door Pull Handle    25248         3   \n",
       "2120  Tenex B1-RE Series Chair Mats for Low Pile Car...     9196         2   \n",
       "\n",
       "      Discount  Profit  \n",
       "2116        32 -676704  \n",
       "2117         0    6432  \n",
       "2118         0  223548  \n",
       "2119         2   41028  \n",
       "2120         0  156332  \n",
       "\n",
       "[5 rows x 21 columns]"
      ]
     },
     "execution_count": 53,
     "metadata": {},
     "output_type": "execute_result"
    }
   ],
   "source": [
    "data.tail()"
   ]
  },
  {
   "cell_type": "code",
   "execution_count": 54,
   "metadata": {},
   "outputs": [
    {
     "data": {
      "text/plain": [
       "(2121, 21)"
      ]
     },
     "execution_count": 54,
     "metadata": {},
     "output_type": "execute_result"
    }
   ],
   "source": [
    "data.shape"
   ]
  },
  {
   "cell_type": "code",
   "execution_count": 55,
   "metadata": {},
   "outputs": [
    {
     "name": "stdout",
     "output_type": "stream",
     "text": [
      "<class 'pandas.core.frame.DataFrame'>\n",
      "RangeIndex: 2121 entries, 0 to 2120\n",
      "Data columns (total 21 columns):\n",
      " #   Column         Non-Null Count  Dtype \n",
      "---  ------         --------------  ----- \n",
      " 0   Row ID         2121 non-null   int64 \n",
      " 1   Order ID       2121 non-null   object\n",
      " 2   Order Date     2121 non-null   object\n",
      " 3   Ship Date      2121 non-null   object\n",
      " 4   Ship Mode      2121 non-null   object\n",
      " 5   Customer ID    2121 non-null   object\n",
      " 6   Customer Name  2121 non-null   object\n",
      " 7   Segment        2121 non-null   object\n",
      " 8   Country        2121 non-null   object\n",
      " 9   City           2121 non-null   object\n",
      " 10  State          2121 non-null   object\n",
      " 11  Postal Code    2121 non-null   int64 \n",
      " 12  Region         2121 non-null   object\n",
      " 13  Product ID     2121 non-null   object\n",
      " 14  Category       2121 non-null   object\n",
      " 15  Sub-Category   2121 non-null   object\n",
      " 16  Product Name   2121 non-null   object\n",
      " 17  Sales          2121 non-null   int64 \n",
      " 18  Quantity       2121 non-null   int64 \n",
      " 19  Discount       2121 non-null   int64 \n",
      " 20  Profit         2121 non-null   int64 \n",
      "dtypes: int64(6), object(15)\n",
      "memory usage: 348.1+ KB\n"
     ]
    }
   ],
   "source": [
    "data.info()"
   ]
  },
  {
   "cell_type": "markdown",
   "metadata": {},
   "source": [
    "- Menghapus kolom 'Row Id'"
   ]
  },
  {
   "cell_type": "code",
   "execution_count": 56,
   "metadata": {},
   "outputs": [],
   "source": [
    "data = data.drop(columns='Row ID')"
   ]
  },
  {
   "cell_type": "code",
   "execution_count": 57,
   "metadata": {},
   "outputs": [
    {
     "data": {
      "text/html": [
       "<div>\n",
       "<style scoped>\n",
       "    .dataframe tbody tr th:only-of-type {\n",
       "        vertical-align: middle;\n",
       "    }\n",
       "\n",
       "    .dataframe tbody tr th {\n",
       "        vertical-align: top;\n",
       "    }\n",
       "\n",
       "    .dataframe thead th {\n",
       "        text-align: right;\n",
       "    }\n",
       "</style>\n",
       "<table border=\"1\" class=\"dataframe\">\n",
       "  <thead>\n",
       "    <tr style=\"text-align: right;\">\n",
       "      <th></th>\n",
       "      <th>Order ID</th>\n",
       "      <th>Order Date</th>\n",
       "      <th>Ship Date</th>\n",
       "      <th>Ship Mode</th>\n",
       "      <th>Customer ID</th>\n",
       "      <th>Customer Name</th>\n",
       "      <th>Segment</th>\n",
       "      <th>Country</th>\n",
       "      <th>City</th>\n",
       "      <th>State</th>\n",
       "      <th>Postal Code</th>\n",
       "      <th>Region</th>\n",
       "      <th>Product ID</th>\n",
       "      <th>Category</th>\n",
       "      <th>Sub-Category</th>\n",
       "      <th>Product Name</th>\n",
       "      <th>Sales</th>\n",
       "      <th>Quantity</th>\n",
       "      <th>Discount</th>\n",
       "      <th>Profit</th>\n",
       "    </tr>\n",
       "  </thead>\n",
       "  <tbody>\n",
       "    <tr>\n",
       "      <th>1035</th>\n",
       "      <td>US-2017-139647</td>\n",
       "      <td>5/11/2017</td>\n",
       "      <td>5/13/2017</td>\n",
       "      <td>First Class</td>\n",
       "      <td>TS-21370</td>\n",
       "      <td>Todd Sumrall</td>\n",
       "      <td>Corporate</td>\n",
       "      <td>United States</td>\n",
       "      <td>Phoenix</td>\n",
       "      <td>Arizona</td>\n",
       "      <td>85023</td>\n",
       "      <td>West</td>\n",
       "      <td>FUR-BO-10004467</td>\n",
       "      <td>Furniture</td>\n",
       "      <td>Bookcases</td>\n",
       "      <td>Bestar Classic Bookcase</td>\n",
       "      <td>209979</td>\n",
       "      <td>7</td>\n",
       "      <td>7</td>\n",
       "      <td>-3569643</td>\n",
       "    </tr>\n",
       "    <tr>\n",
       "      <th>1613</th>\n",
       "      <td>CA-2017-151225</td>\n",
       "      <td>10/27/2017</td>\n",
       "      <td>10/29/2017</td>\n",
       "      <td>First Class</td>\n",
       "      <td>JM-15655</td>\n",
       "      <td>Jim Mitchum</td>\n",
       "      <td>Corporate</td>\n",
       "      <td>United States</td>\n",
       "      <td>Los Angeles</td>\n",
       "      <td>California</td>\n",
       "      <td>90032</td>\n",
       "      <td>West</td>\n",
       "      <td>FUR-TA-10001539</td>\n",
       "      <td>Furniture</td>\n",
       "      <td>Tables</td>\n",
       "      <td>Chromcraft Rectangular Conference Tables</td>\n",
       "      <td>189576</td>\n",
       "      <td>1</td>\n",
       "      <td>2</td>\n",
       "      <td>94788</td>\n",
       "    </tr>\n",
       "    <tr>\n",
       "      <th>988</th>\n",
       "      <td>CA-2014-106229</td>\n",
       "      <td>6/7/2014</td>\n",
       "      <td>6/11/2014</td>\n",
       "      <td>Second Class</td>\n",
       "      <td>NR-18550</td>\n",
       "      <td>Nick Radford</td>\n",
       "      <td>Consumer</td>\n",
       "      <td>United States</td>\n",
       "      <td>Aurora</td>\n",
       "      <td>Illinois</td>\n",
       "      <td>60505</td>\n",
       "      <td>Central</td>\n",
       "      <td>FUR-TA-10002041</td>\n",
       "      <td>Furniture</td>\n",
       "      <td>Tables</td>\n",
       "      <td>Bevis Round Conference Table Top, X-Base</td>\n",
       "      <td>268935</td>\n",
       "      <td>3</td>\n",
       "      <td>5</td>\n",
       "      <td>-2097693</td>\n",
       "    </tr>\n",
       "  </tbody>\n",
       "</table>\n",
       "</div>"
      ],
      "text/plain": [
       "            Order ID  Order Date   Ship Date     Ship Mode Customer ID  \\\n",
       "1035  US-2017-139647   5/11/2017   5/13/2017   First Class    TS-21370   \n",
       "1613  CA-2017-151225  10/27/2017  10/29/2017   First Class    JM-15655   \n",
       "988   CA-2014-106229    6/7/2014   6/11/2014  Second Class    NR-18550   \n",
       "\n",
       "     Customer Name    Segment        Country         City       State  \\\n",
       "1035  Todd Sumrall  Corporate  United States      Phoenix     Arizona   \n",
       "1613   Jim Mitchum  Corporate  United States  Los Angeles  California   \n",
       "988   Nick Radford   Consumer  United States       Aurora    Illinois   \n",
       "\n",
       "      Postal Code   Region       Product ID   Category Sub-Category  \\\n",
       "1035        85023     West  FUR-BO-10004467  Furniture    Bookcases   \n",
       "1613        90032     West  FUR-TA-10001539  Furniture       Tables   \n",
       "988         60505  Central  FUR-TA-10002041  Furniture       Tables   \n",
       "\n",
       "                                  Product Name   Sales  Quantity  Discount  \\\n",
       "1035                   Bestar Classic Bookcase  209979         7         7   \n",
       "1613  Chromcraft Rectangular Conference Tables  189576         1         2   \n",
       "988   Bevis Round Conference Table Top, X-Base  268935         3         5   \n",
       "\n",
       "       Profit  \n",
       "1035 -3569643  \n",
       "1613    94788  \n",
       "988  -2097693  "
      ]
     },
     "execution_count": 57,
     "metadata": {},
     "output_type": "execute_result"
    }
   ],
   "source": [
    "data.sample(3)"
   ]
  },
  {
   "cell_type": "markdown",
   "metadata": {},
   "source": []
  },
  {
   "cell_type": "code",
   "execution_count": 58,
   "metadata": {},
   "outputs": [
    {
     "data": {
      "text/plain": [
       "Order ID         0\n",
       "Order Date       0\n",
       "Ship Date        0\n",
       "Ship Mode        0\n",
       "Customer ID      0\n",
       "Customer Name    0\n",
       "Segment          0\n",
       "Country          0\n",
       "City             0\n",
       "State            0\n",
       "Postal Code      0\n",
       "Region           0\n",
       "Product ID       0\n",
       "Category         0\n",
       "Sub-Category     0\n",
       "Product Name     0\n",
       "Sales            0\n",
       "Quantity         0\n",
       "Discount         0\n",
       "Profit           0\n",
       "dtype: int64"
      ]
     },
     "execution_count": 58,
     "metadata": {},
     "output_type": "execute_result"
    }
   ],
   "source": [
    "data.isnull().sum()"
   ]
  },
  {
   "cell_type": "code",
   "execution_count": 59,
   "metadata": {},
   "outputs": [
    {
     "data": {
      "text/plain": [
       "np.int64(1)"
      ]
     },
     "execution_count": 59,
     "metadata": {},
     "output_type": "execute_result"
    }
   ],
   "source": [
    "data.duplicated().sum()"
   ]
  },
  {
   "cell_type": "code",
   "execution_count": 60,
   "metadata": {},
   "outputs": [],
   "source": [
    "data = data.drop_duplicates()"
   ]
  },
  {
   "cell_type": "code",
   "execution_count": 61,
   "metadata": {},
   "outputs": [
    {
     "data": {
      "text/plain": [
       "np.int64(0)"
      ]
     },
     "execution_count": 61,
     "metadata": {},
     "output_type": "execute_result"
    }
   ],
   "source": [
    "data.duplicated().sum()"
   ]
  },
  {
   "cell_type": "markdown",
   "metadata": {},
   "source": [
    "- Mengubah type data pada setiap kolom"
   ]
  },
  {
   "cell_type": "code",
   "execution_count": 62,
   "metadata": {},
   "outputs": [],
   "source": [
    "data['Order Date'] = pd.to_datetime(data['Order Date'])\n",
    "data['Ship Date'] = pd.to_datetime(data['Ship Date'])\n",
    "data['Sales'] = pd.to_numeric(data['Sales'])"
   ]
  },
  {
   "cell_type": "code",
   "execution_count": 63,
   "metadata": {},
   "outputs": [
    {
     "name": "stdout",
     "output_type": "stream",
     "text": [
      "Order ID ['CA-2016-152156' 'US-2015-108966' 'CA-2014-115812' ... 'US-2015-151435'\n",
      " 'CA-2014-110422' 'CA-2017-121258']\n",
      "Order Date <DatetimeArray>\n",
      "['2016-11-08 00:00:00', '2015-10-11 00:00:00', '2014-06-09 00:00:00',\n",
      " '2017-07-16 00:00:00', '2015-09-25 00:00:00', '2015-09-17 00:00:00',\n",
      " '2016-12-08 00:00:00', '2015-12-27 00:00:00', '2015-04-18 00:00:00',\n",
      " '2016-06-17 00:00:00',\n",
      " ...\n",
      " '2014-08-15 00:00:00', '2015-03-26 00:00:00', '2017-01-14 00:00:00',\n",
      " '2016-06-06 00:00:00', '2015-10-10 00:00:00', '2017-01-29 00:00:00',\n",
      " '2016-06-03 00:00:00', '2017-06-01 00:00:00', '2015-03-19 00:00:00',\n",
      " '2014-01-21 00:00:00']\n",
      "Length: 889, dtype: datetime64[ns]\n",
      "Ship Date <DatetimeArray>\n",
      "['2016-11-11 00:00:00', '2015-10-18 00:00:00', '2014-06-14 00:00:00',\n",
      " '2017-07-18 00:00:00', '2015-09-30 00:00:00', '2015-09-21 00:00:00',\n",
      " '2016-12-10 00:00:00', '2015-12-31 00:00:00', '2015-04-22 00:00:00',\n",
      " '2016-06-18 00:00:00',\n",
      " ...\n",
      " '2015-03-30 00:00:00', '2017-01-20 00:00:00', '2014-11-03 00:00:00',\n",
      " '2016-08-25 00:00:00', '2016-07-28 00:00:00', '2016-06-10 00:00:00',\n",
      " '2014-04-03 00:00:00', '2015-03-22 00:00:00', '2014-01-23 00:00:00',\n",
      " '2017-03-03 00:00:00']\n",
      "Length: 960, dtype: datetime64[ns]\n",
      "Ship Mode ['Second Class' 'Standard Class' 'First Class' 'Same Day']\n",
      "Customer ID ['CG-12520' 'SO-20335' 'BH-11710' 'SF-20065' 'EB-13870' 'TB-21520'\n",
      " 'GH-14485' 'SN-20710' 'DP-13000' 'TB-21055' 'KM-16720' 'PS-18970'\n",
      " 'JE-15745' 'KB-16600' 'PO-18865' 'KB-16315' 'PN-18775' 'LC-16870'\n",
      " 'CV-12805' 'DK-13090' 'SC-20725' 'AD-10180' 'PF-19165' 'LS-16975'\n",
      " 'LC-16885' 'JD-15895' 'MG-17680' 'JE-16165' 'DB-13060' 'BM-11140'\n",
      " 'CS-12130' 'MP-17470' 'BS-11755' 'HK-14890' 'VW-21775' 'JB-15925'\n",
      " 'DS-13180' 'VD-21670' 'CS-12400' 'KL-16645' 'DW-13480' 'LH-17155'\n",
      " 'DR-12880' 'HA-14920' 'JO-15280' 'NZ-18565' 'KL-16555' 'JH-15910'\n",
      " 'AS-10225' 'BP-11185' 'TS-21205' 'NM-18445' 'DJ-13510' 'PO-18850'\n",
      " 'AC-10420' 'JL-15505' 'KW-16435' 'MK-17905' 'AR-10405' 'DO-13435'\n",
      " 'DK-13225' 'AG-10675' 'KH-16510' 'KC-16675' 'PB-19150' 'MP-17965'\n",
      " 'NF-18385' 'JM-15265' 'PK-19075' 'TB-21595' 'EB-13705' 'SC-20095'\n",
      " 'TN-21040' 'JS-15940' 'JP-15520' 'JE-15475' 'MT-18070' 'RO-19780'\n",
      " 'MY-17380' 'LS-17245' 'MC-17605' 'PH-18790' 'KB-16240' 'JC-15340'\n",
      " 'DK-12985' 'PG-18895' 'BD-11320' 'RC-19960' 'OT-18730' 'LP-17080'\n",
      " 'CA-12775' 'EB-13840' 'CS-11950' 'BD-11725' 'LR-16915' 'AS-10240'\n",
      " 'NG-18355' 'SF-20965' 'MO-17800' 'DJ-13420' 'RB-19465' 'JD-16150'\n",
      " 'AR-10825' 'EH-14125' 'CB-12025' 'RP-19390' 'CD-11980' 'RA-19285'\n",
      " 'NP-18325' 'Dl-13600' 'AS-10285' 'JK-15370' 'DP-13165' 'SV-20365'\n",
      " 'KC-16540' 'CK-12325' 'MR-17545' 'EG-13900' 'DS-13030' 'MH-17785'\n",
      " 'RF-19735' 'MS-17830' 'NB-18655' 'AJ-10795' 'LE-16810' 'BV-11245'\n",
      " 'BM-11785' 'LT-17110' 'SA-20830' 'CD-11920' 'HW-14935' 'GM-14440'\n",
      " 'AA-10375' 'ZC-21910' 'PJ-19015' 'BM-11650' 'AF-10885' 'GA-14725'\n",
      " 'GT-14710' 'AJ-10780' 'CC-12430' 'HP-14815' 'PM-19135' 'LL-16840'\n",
      " 'SC-20050' 'RW-19630' 'RB-19795' 'KH-16360' 'GH-14665' 'DL-12925'\n",
      " 'LW-16990' 'DL-13315' 'TZ-21580' 'JG-15805' 'SL-20155' 'RD-19585'\n",
      " 'RH-19495' 'VG-21790' 'JS-15880' 'KM-16225' 'LA-16780' 'EL-13735'\n",
      " 'RD-19660' 'MO-17500' 'DG-13300' 'NF-18595' 'JD-16060' 'BD-11620'\n",
      " 'BT-11395' 'KD-16270' 'NS-18640' 'PV-18985' 'EH-13945' 'RA-19915'\n",
      " 'HL-15040' 'BD-11605' 'AP-10915' 'CB-12535' 'PS-19045' 'GB-14530'\n",
      " 'BT-11530' 'LS-16945' 'SW-20755' 'SP-20620' 'PG-18820' 'GM-14680'\n",
      " 'NP-18700' 'DJ-13630' 'MH-18115' 'CC-12220' 'JC-16105' 'BG-11695'\n",
      " 'MS-17710' 'TB-21355' 'LC-17140' 'TC-21535' 'CS-12460' 'RC-19825'\n",
      " 'HG-14965' 'LD-17005' 'JF-15190' 'CM-12115' 'BP-11290' 'LB-16735'\n",
      " 'KT-16465' 'AB-10600' 'SZ-20035' 'JR-15670' 'CA-12265' 'JK-16120'\n",
      " 'PP-18955' 'CK-12760' 'GM-14455' 'SD-20485' 'AB-10105' 'BT-11305'\n",
      " 'SV-20815' 'IM-15070' 'ME-17320' 'AA-10480' 'MB-18085' 'LC-16930'\n",
      " 'MB-17305' 'DK-12835' 'NM-18520' 'CM-12655' 'TS-21370' 'JW-15220'\n",
      " 'AT-10435' 'PC-19000' 'JM-15535' 'AI-10855' 'MC-17845' 'GH-14425'\n",
      " 'CJ-12010' 'MP-18175' 'CL-11890' 'CK-12205' 'PC-18745' 'SG-20470'\n",
      " 'MC-18100' 'DP-13390' 'MD-17350' 'AB-10150' 'ML-17395' 'JC-15385'\n",
      " 'MC-17275' 'TB-21280' 'MM-17920' 'SB-20290' 'AW-10840' 'TS-21610'\n",
      " 'HZ-14950' 'ND-18370' 'JK-15205' 'MM-18055' 'DC-13285' 'BN-11515'\n",
      " 'KD-16345' 'FM-14215' 'JW-15955' 'AG-10900' 'ML-17755' 'RM-19375'\n",
      " 'AS-10135' 'FO-14305' 'BT-11680' 'JL-15235' 'EA-14035' 'BF-10975'\n",
      " 'KH-16330' 'FA-14230' 'DA-13450' 'FH-14275' 'NC-18625' 'AH-10075'\n",
      " 'ME-18010' 'BP-11230' 'JG-15160' 'LF-17185' 'RA-19945' 'RW-19540'\n",
      " 'DB-13660' 'EH-13765' 'NP-18685' 'JE-15715' 'AC-10615' 'LW-16825'\n",
      " 'AS-10090' 'JS-16030' 'CM-12190' 'AM-10705' 'RH-19510' 'CT-11995'\n",
      " 'SN-20560' 'CK-12595' 'RD-19480' 'TP-21130' 'GG-14650' 'KA-16525'\n",
      " 'TR-21325' 'MS-17365' 'MM-17260' 'AH-10120' 'SG-20080' 'RK-19300'\n",
      " 'JB-15400' 'EH-14005' 'RF-19345' 'TB-21625' 'GT-14635' 'TS-21160'\n",
      " 'WB-21850' 'AF-10870' 'BF-11170' 'IL-15100' 'SW-20275' 'NS-18505'\n",
      " 'DK-13375' 'BT-11440' 'DB-13405' 'SJ-20125' 'MV-17485' 'JL-15850'\n",
      " 'LM-17065' 'JK-15625' 'RS-19420' 'BC-11125' 'EM-13825' 'BM-11575'\n",
      " 'SC-20260' 'CP-12340' 'AB-10060' 'EH-13990' 'BF-11020' 'BE-11455'\n",
      " 'SG-20605' 'HM-14860' 'BE-11335' 'JA-15970' 'SV-20935' 'MZ-17515'\n",
      " 'AZ-10750' 'PW-19240' 'SW-20455' 'CM-11935' 'PF-19225' 'GM-14695'\n",
      " 'KN-16705' 'KT-16480' 'SC-20575' 'BB-11545' 'DW-13585' 'EM-13810'\n",
      " 'KD-16615' 'AP-10720' 'BW-11110' 'TM-21010' 'SF-20200' 'SM-20320'\n",
      " 'SE-20110' 'EN-13780' 'MC-17590' 'BO-11350' 'AG-10300' 'JF-15295'\n",
      " 'SB-20170' 'TB-21400' 'SH-19975' 'HR-14830' 'HF-14995' 'NL-18310'\n",
      " 'RR-19525' 'DL-12865' 'CC-12145' 'CP-12085' 'EP-13915' 'FH-14350'\n",
      " 'MS-17530' 'SC-20770' 'JP-16135' 'SS-20140' 'CD-12790' 'MD-17860'\n",
      " 'KN-16450' 'DL-13330' 'MH-18025' 'DR-12940' 'DM-13015' 'DM-13345'\n",
      " 'CC-12370' 'SC-20380' 'BF-11275' 'TD-20995' 'BK-11260' 'HG-14845'\n",
      " 'LS-17200' 'JM-16195' 'BP-11155' 'TT-21220' 'LH-17020' 'EM-14140'\n",
      " 'MA-17995' 'AY-10555' 'Co-12640' 'JF-15565' 'DV-13045' 'GB-14575'\n",
      " 'CL-12565' 'JB-16045' 'NW-18400' 'JB-16000' 'DM-12955' 'JH-16180'\n",
      " 'AS-10045' 'ZD-21925' 'KF-16285' 'TC-21475' 'HH-15010' 'YC-21895'\n",
      " 'KM-16375' 'TP-21415' 'DB-12910' 'CS-12355' 'JG-15310' 'MS-17770'\n",
      " 'JE-15610' 'CC-12100' 'JP-15460' 'CS-11845' 'SM-20950' 'TT-21070'\n",
      " 'RD-19900' 'DW-13195' 'SJ-20215' 'BG-11740' 'AH-10030' 'TH-21100'\n",
      " 'HG-15025' 'EB-13750' 'TS-21505' 'TH-21550' 'PR-18880' 'CA-12310'\n",
      " 'MC-17425' 'LC-17050' 'Dp-13240' 'LB-16795' 'DE-13255' 'CC-12610'\n",
      " 'RH-19600' 'CA-12055' 'SC-20020' 'MG-17875' 'RD-19810' 'MT-17815'\n",
      " 'KD-16495' 'RB-19330' 'JC-15775' 'ML-17410' 'MH-17620' 'MF-17665'\n",
      " 'RS-19765' 'AB-10255' 'RM-19750' 'KB-16585' 'CM-12160' 'EJ-13720'\n",
      " 'NC-18415' 'AH-10690' 'LS-17230' 'MY-18295' 'KE-16420' 'DH-13675'\n",
      " 'GH-14410' 'JF-15355' 'PF-19120' 'SP-20860' 'VT-21700' 'MM-18280'\n",
      " 'MH-17455' 'TS-21340' 'DN-13690' 'RB-19360' 'ED-13885' 'JM-15250'\n",
      " 'EB-13930' 'TH-21235' 'PL-18925' 'CS-12175' 'AR-10540' 'DB-13120'\n",
      " 'DK-12895' 'AA-10645' 'JO-15145' 'GA-14515' 'LH-16900' 'DL-13495'\n",
      " 'MG-18145' 'NC-18535' 'SR-20740' 'SJ-20500' 'BS-11365' 'SH-20635'\n",
      " 'RM-19675' 'CA-11965' 'AH-10585' 'GZ-14470' 'RR-19315' 'JL-15835'\n",
      " 'AS-10630' 'JK-15730' 'CC-12670' 'VS-21820' 'BW-11200' 'RD-19720'\n",
      " 'VF-21715' 'ES-14080' 'RL-19615' 'GK-14620' 'JF-15490' 'MG-17650'\n",
      " 'MC-18130' 'MG-17890' 'HA-14905' 'DB-13360' 'SV-20785' 'DB-13555'\n",
      " 'AG-10270' 'NR-18550' 'RB-19435' 'GT-14755' 'ES-14020' 'CM-12385'\n",
      " 'MF-18250' 'EB-14110' 'TB-21175' 'AC-10660' 'AB-10015' 'CL-12700'\n",
      " 'RB-19645' 'SS-20410' 'HR-14770' 'AH-10465' 'MA-17560' 'BD-11500'\n",
      " 'TS-21430' 'FP-14320' 'JL-15175' 'KW-16570' 'AJ-10945' 'CS-12250'\n",
      " 'RE-19450' 'SR-20425' 'TM-21490' 'AH-10195' 'AB-10165' 'CV-12295'\n",
      " 'NH-18610' 'AG-10495' 'GR-14560' 'MH-17290' 'DM-13525' 'TA-21385'\n",
      " 'DB-13210' 'TH-21115' 'MS-17980' 'DB-12970' 'SU-20665' 'RF-19840'\n",
      " 'SC-20695' 'ML-18040' 'TG-21640' 'RB-19705' 'SS-20875' 'DH-13075'\n",
      " 'BW-11065' 'FH-14365' 'SC-20440' 'JK-16090' 'MG-18205' 'CR-12730'\n",
      " 'KB-16405' 'BS-11665' 'PO-19180' 'RA-19885' 'BD-11770' 'AG-10390'\n",
      " 'SW-20245' 'BF-11215' 'SP-20920' 'JR-16210' 'TB-21190' 'AO-10810'\n",
      " 'EK-13795' 'DB-13270' 'CM-12445' 'YS-21880' 'JF-15415' 'LO-17170'\n",
      " 'ME-17725' 'MZ-17335' 'TP-21565' 'LW-17125' 'XP-21865' 'SH-20395'\n",
      " 'TT-21460' 'EC-14050' 'BS-11590' 'KN-16390' 'SS-20515' 'SP-20545'\n",
      " 'ON-18715' 'MV-18190' 'VP-21760' 'PM-18940' 'TW-21025' 'TC-21145'\n",
      " 'PS-18760' 'SC-20230' 'ST-20530' 'AR-10570' 'CY-12745' 'AT-10735'\n",
      " 'AG-10330' 'VB-21745' 'SC-20305' 'JS-15595' 'AW-10930' 'CB-12415'\n",
      " 'DO-13645' 'MN-17935' 'SP-20650' 'AR-10345' 'AA-10315' 'CC-12475'\n",
      " 'TC-21295' 'BS-11380' 'RB-19570' 'TB-21250' 'JM-15655' 'FC-14335'\n",
      " 'JM-15865' 'NB-18580' 'ER-13855' 'LW-17215' 'PW-19030' 'GM-14500'\n",
      " 'DW-13540' 'TG-21310' 'JS-15685' 'TS-21655' 'DC-12850' 'PO-19195'\n",
      " 'EM-14200' 'CR-12580' 'CM-11815' 'CM-12715' 'LC-16960' 'CR-12820'\n",
      " 'RD-19930' 'CS-12490' 'JD-15790' 'PT-19090' 'LP-17095' 'GZ-14545'\n",
      " 'GW-14605' 'SC-20680' 'MH-17440' 'EJ-14155' 'BD-11635' 'HE-14800'\n",
      " 'NP-18670' 'EM-14065' 'AG-10525' 'HM-14980' 'BP-11095' 'SB-20185'\n",
      " 'CR-12625' 'DF-13135' 'JL-15130' 'JH-15430' 'JG-15115' 'ND-18460'\n",
      " 'LR-17035' 'KM-16660' 'FM-14380' 'HJ-14875' 'JH-15820' 'AM-10360'\n",
      " 'SM-20005' 'DP-13105' 'MW-18220' 'CD-12280' 'CM-12235' 'PB-18805'\n",
      " 'RP-19270' 'EB-14170' 'SM-20905' 'BF-11005' 'FC-14245' 'JH-15985'\n",
      " 'BT-11485' 'QJ-19255' 'BG-11035' 'SC-20845' 'IM-15055']\n",
      "Customer Name ['Claire Gute' \"Sean O'Donnell\" 'Brosina Hoffman' 'Sandra Flanagan'\n",
      " 'Emily Burns' 'Tracy Blumstein' 'Gene Hale' 'Steve Nguyen'\n",
      " 'Darren Powers' 'Ted Butterfield' 'Kunst Miller' 'Paul Stevenson'\n",
      " 'Joel Eaton' 'Ken Brennan' \"Patrick O'Donnell\" 'Karl Braun'\n",
      " 'Parhena Norris' 'Lena Cacioppo' 'Cynthia Voltz' 'Dave Kipp'\n",
      " 'Steven Cartwright' 'Alan Dominguez' 'Philip Fox' 'Lindsay Shagiari'\n",
      " 'Lena Creighton' 'Jonathan Doherty' 'Maureen Gastineau' 'Justin Ellison'\n",
      " 'Dave Brooks' 'Becky Martin' 'Chad Sievert' 'Mark Packer' 'Bruce Stewart'\n",
      " 'Heather Kirkland' 'Victoria Wilson' 'Joni Blumstein' 'David Smith'\n",
      " 'Valerie Dominguez' 'Christopher Schild' 'Ken Lonsdale' 'Dianna Wilson'\n",
      " 'Logan Haushalter' 'Dan Reichenbach' 'Helen Andreada' \"Jas O'Carroll\"\n",
      " 'Nick Zandusky' 'Kelly Lampkin' 'Jonathan Howell' 'Alan Schoenberger'\n",
      " 'Ben Peterman' 'Thomas Seio' 'Nathan Mautz' 'Don Jones' \"Patrick O'Brill\"\n",
      " 'Alyssa Crouse' 'Jeremy Lonsdale' 'Katrina Willman' 'Michael Kennedy'\n",
      " 'Allen Rosenblatt' 'Denny Ordway' 'Dean Katz' 'Anna Gayman'\n",
      " 'Keith Herrera' 'Kimberly Carter' 'Philip Brown' 'Michael Paige'\n",
      " 'Natalie Fritzler' 'Janet Molinari' 'Pete Kriz' 'Troy Blackwell'\n",
      " 'Ed Braxton' 'Sanjit Chand' 'Tanja Norvell' 'Joni Sundaresam'\n",
      " 'Jeremy Pistek' 'Jeremy Ellison' 'Michelle Tran' \"Rose O'Brian\"\n",
      " 'Maribeth Yedwab' 'Lynn Smith' 'Matt Connell' 'Patricia Hirasaki'\n",
      " 'Karen Bern' 'Jasper Cacioppo' 'Darren Koutras' 'Paul Gonzalez'\n",
      " 'Bill Donatelli' 'Ryan Crowe' 'Olvera Toch' 'Liz Pelletier'\n",
      " 'Cynthia Arntzen' 'Ellis Ballard' 'Carlos Soltero' 'Bruce Degenhardt'\n",
      " 'Lena Radford' 'Alan Shonely' 'Nat Gilpin' 'Sylvia Foulston'\n",
      " \"Meg O'Connel\" 'Denny Joy' 'Rick Bensley' 'Justin Deggeller'\n",
      " 'Anthony Rawles' 'Eugene Hildebrand' 'Cassandra Brandow' 'Resi Pšlking'\n",
      " 'Carol Darley' 'Ralph Arnett' 'Naresj Patel' 'Dorris liebe'\n",
      " 'Alejandro Savely' 'Jay Kimmel' 'David Philippe' 'Seth Vernon'\n",
      " 'Kelly Collister' 'Christine Kargatis' 'Mathew Reese' 'Emily Grady'\n",
      " 'Darrin Sayre' 'Maya Herman' 'Roland Fjeld' 'Melanie Seite' 'Nona Balk'\n",
      " 'Anthony Johnson' 'Laurel Elliston' 'Benjamin Venier' 'Bryan Mills'\n",
      " 'Liz Thompson' 'Sue Ann Reed' 'Carlos Daly' 'Helen Wasserman'\n",
      " 'Gary McGarr' 'Allen Armold' 'Zuschuss Carroll' 'Pauline Johnson'\n",
      " 'Brian Moss' 'Art Foster' 'Guy Armstrong' 'Greg Tran' 'Anthony Jacobs'\n",
      " 'Chuck Clark' 'Harold Pawlan' 'Peter McVee' 'Lauren Leatherbury'\n",
      " 'Sample Company A' 'Rob Williams' 'Ross Baird' 'Katherine Hughes'\n",
      " 'Greg Hansen' 'Daniel Lacy' 'Lindsay Williams' 'Delfina Latchford'\n",
      " 'Tracy Zic' 'John Grady' 'Sara Luxemburg' 'Rob Dowd' 'Rick Hansen'\n",
      " 'Vivek Gonzalez' 'John Stevenson' 'Kalyca Meade' 'Laura Armstrong'\n",
      " 'Ed Ludwig' 'Robert Dilbeck' \"Mary O'Rourke\" 'Deirdre Greer'\n",
      " 'Nicole Fjeld' 'Julia Dunbar' 'Brian DeCherney' 'Bill Tyler'\n",
      " 'Karen Daniels' 'Noel Staavos' 'Paul Van Hugh' 'Eric Hoffmann'\n",
      " 'Russell Applegate' 'Hunter Lopez' 'Brian Dahlen' 'Arthur Prichep'\n",
      " 'Claudia Bergmann' 'Penelope Sewall' 'George Bell' 'Bradley Talbott'\n",
      " 'Linda Southworth' 'Steven Ward' 'Stefania Perrino' 'Patrick Gardner'\n",
      " 'Greg Matthias' 'Nora Preis' 'Doug Jacobs' 'Mick Hernandez'\n",
      " 'Chris Cortes' 'Julie Creighton' 'Brooke Gillingham' 'Maurice Satty'\n",
      " 'Todd Boyes' 'Logan Currie' 'Tracy Collins' 'Chuck Sachs' 'Roy Collins'\n",
      " 'Henry Goldwyn' 'Lisa DeCherney' 'Jamie Frazer' 'Chad McGuire'\n",
      " 'Beth Paige' 'Larry Blacks' 'Kean Takahito' 'Ann Blume' 'Sam Zeldin'\n",
      " 'Jim Radford' 'Christina Anderson' 'Julie Kriz' 'Paul Prost'\n",
      " 'Cyma Kinney' 'Gary Mitchum' 'Shirley Daniels' 'Adrian Barton'\n",
      " 'Beth Thompson' 'Stuart Van' 'Irene Maddox' 'Maria Etezadi'\n",
      " 'Andrew Allen' 'Mick Brown' 'Linda Cazamias' 'Maria Bertelson'\n",
      " 'Damala Kotsonis' 'Neoma Murray' 'Corinna Mitchell' 'Todd Sumrall'\n",
      " 'Jane Waco' 'Alyssa Tate' 'Pauline Chand' 'Jessica Myrick'\n",
      " 'Arianne Irving' 'Michael Chen' 'Gary Hwang' 'Caroline Jumper'\n",
      " 'Mike Pelletier' 'Carl Ludwig' 'Chloris Kastensmidt' 'Pamela Coakley'\n",
      " 'Sheri Gordon' 'Mick Crebagga' 'Dennis Pardue' 'Maribeth Dona'\n",
      " 'Aimee Bixby' 'Marina Lichtenstein' 'Jenna Caffey' 'Marc Crier'\n",
      " 'Toby Braunhardt' 'Michael Moore' 'Sean Braxton' 'Anthony Witt'\n",
      " 'Troy Staebel' 'Henia Zydlo' 'Natalie DeCherney' 'Jamie Kunitz'\n",
      " 'Michelle Moray' 'Debra Catini' 'Bradley Nguyen' 'Katherine Ducich'\n",
      " 'Filia McAdams' 'Joni Wasserman' 'Arthur Gainer' 'Max Ludwig'\n",
      " 'Raymond Messe' 'Adrian Shami' 'Frank Olsen' 'Brian Thompson' 'Janet Lee'\n",
      " 'Erin Ashbrook' 'Barbara Fisher' 'Katharine Harms' 'Frank Atkinson'\n",
      " 'Dianna Arnett' 'Frank Hawley' 'Noah Childs' 'Adam Hart'\n",
      " 'Michelle Ellison' 'Benjamin Patterson' 'James Galang' 'Luke Foster'\n",
      " 'Ryan Akin' 'Rick Wilson' 'Duane Benoit' 'Edward Hooks' 'Nora Pelletier'\n",
      " 'Joe Elijah' 'Ann Chong' 'Laurel Workman' 'Adam Shillingsburg'\n",
      " 'Joy Smith' 'Charlotte Melton' 'Anne McFarland' 'Rick Huthwaite'\n",
      " 'Carol Triggs' 'Skye Norling' 'Clytie Kelty' 'Rick Duston'\n",
      " 'Theone Pippenger' 'Greg Guthrie' 'Kelly Andreada' 'Toby Ritter'\n",
      " 'Maribeth Schnelling' 'Magdelene Morse' 'Adrian Hane' 'Sandra Glassco'\n",
      " 'Ralph Kennedy' 'Jennifer Braxton' 'Erica Hernandez' 'Randy Ferguson'\n",
      " 'Trudy Brown' 'Grant Thornton' 'Theresa Swint' 'William Brown'\n",
      " 'Art Ferguson' 'Ben Ferrer' 'Ivan Liston' 'Scott Williamson'\n",
      " 'Neola Schneider' 'Dennis Kane' 'Bobby Trafton' 'Denny Blanton'\n",
      " 'Sanjit Jacobs' 'Mark Van Huff' 'John Lucas' 'Liz MacKendrick'\n",
      " 'Jim Karlsson' 'Ricardo Sperren' 'Becky Castell' 'Elizabeth Moffitt'\n",
      " 'Brendan Murry' 'Scott Cohen' 'Christine Phan' 'Adam Bellavance'\n",
      " 'Erica Hackney' 'Barry Franzšsisch' 'Brad Eason' 'Speros Goranitis'\n",
      " 'Harry Marie' 'Bill Eplett' 'Joseph Airdo' 'Susan Vittorini' 'Mary Zewe'\n",
      " 'Annie Zypern' 'Pierre Wener' 'Shaun Weien' 'Carlos Meador'\n",
      " 'Phillip Flathmann' 'Greg Maxwell' 'Kristina Nunn' 'Kean Thornton'\n",
      " 'Sonia Cooley' 'Brenda Bowman' 'Dorothy Wardle' 'Eleni McCrary'\n",
      " 'Ken Dana' 'Anne Pryor' 'Bart Watters' 'Tamara Manning' 'Sarah Foster'\n",
      " 'Sean Miller' 'Sanjit Engle' 'Edward Nazzal' 'Matt Collister'\n",
      " 'Bill Overfelt' 'Aleksandra Gannaway' 'Jason Fortune-' 'Sarah Bern'\n",
      " 'Tom Boeckenhauer' 'Sally Hughsby' 'Harold Ryan' 'Herbert Flentye'\n",
      " 'Nancy Lomonaco' 'Rick Reed' 'Dan Lawera' 'Charles Crestani'\n",
      " 'Cathy Prescott' 'Emily Phan' 'Fred Harton' 'MaryBeth Skach'\n",
      " 'Stewart Carmichael' 'Julie Prescott' 'Saphhira Shifley'\n",
      " 'Cynthia Delaney' 'Michael Dominguez' 'Kean Nguyen' 'Denise Leinenbach'\n",
      " 'Michelle Huthwaite' 'Daniel Raglin' 'Darrin Martin' 'Denise Monton'\n",
      " 'Christopher Conant' 'Shahid Collister' 'Beth Fritzler' 'Tamara Dahlen'\n",
      " 'Berenike Kampe' 'Harry Greene' 'Luke Schmidt' 'Justin MacKendrick'\n",
      " 'Becky Pak' 'Thomas Thornton' 'Lisa Hazard' 'Eugene Moren'\n",
      " 'Michelle Arnett' 'Andy Yotov' 'Corey-Lock' 'Jill Fjeld'\n",
      " 'Darrin Van Huff' 'Giulietta Baptist' 'Clay Ludtke' 'Julia Barnett'\n",
      " 'Natalie Webber' 'Joy Bell-' 'Dario Medina' 'Justin Hirsh'\n",
      " 'Aaron Smayling' 'Zuschuss Donatelli' 'Karen Ferguson' 'Tony Chapman'\n",
      " 'Hilary Holden' 'Yoseph Carroll' 'Katherine Murray' 'Tom Prescott'\n",
      " 'Daniel Byrd' 'Christine Sundaresam' 'Jason Gross' 'Maxwell Schwartz'\n",
      " 'Jim Epp' 'Chad Cunningham' 'Jennifer Patt' 'Cari Sayre' 'Suzanne McNair'\n",
      " 'Ted Trevino' 'Ruben Dartt' 'David Wiener' 'Sarah Jordon' 'Bruce Geld'\n",
      " 'Aaron Hawkins' 'Thea Hendricks' 'Hunter Glantz' 'Edward Becker'\n",
      " 'Tony Sayre' 'Tracy Hopkins' 'Patrick Ryan' 'Christine Abelman'\n",
      " 'Mark Cousins' 'Liz Carlisle' 'Dean percer' 'Laurel Beltran' 'Deanra Eno'\n",
      " 'Corey Catlett' 'Rob Haberlin' 'Cathy Armstrong' 'Sam Craven'\n",
      " 'Michael Grace' 'Ross DeVincentis' 'Meg Tillman' 'Keith Dawkins'\n",
      " 'Randy Bradley' 'John Castell' 'Maris LaWare' 'Matt Hagelstein'\n",
      " 'Maureen Fritzler' 'Roland Schwarz' 'Alejandro Ballentine'\n",
      " 'Roland Murray' 'Ken Black' 'Charles McCrossin' 'Ed Jacobs' 'Nathan Cano'\n",
      " 'Anna HŠberlin' 'Lycoris Saunders' 'Muhammed Yedwab' 'Katrina Edelman'\n",
      " 'Duane Huffman' 'Gary Hansen' 'Jay Fein' 'Peter Fuller' 'Sung Pak'\n",
      " 'Valerie Takahito' 'Muhammed MacIntyre' 'Mark Hamilton' 'Toby Swindell'\n",
      " 'Duane Noonan' 'Raymond Buch' 'Emily Ducich' 'Janet Martin'\n",
      " 'Eric Barreto' 'Tiffany House' 'Paul Lucas' 'Charles Sheldon'\n",
      " 'Andy Reiter' 'David Bremer' 'Dana Kaydos' 'Anna Andreadi'\n",
      " \"Jack O'Briant\" 'George Ashbrook' 'Lena Hernandez' 'Dionis Lloyd'\n",
      " 'Mike Gockenbach' 'Nick Crebassa' 'Steven Roelle' 'Shirley Jackson'\n",
      " 'Bill Shonely' 'Stefanie Holloman' 'Robert Marley' 'Carol Adams'\n",
      " 'Angele Hood' 'Gary Zandusky' 'Ralph Ritter' 'John Lee' 'Ann Steele'\n",
      " 'Joe Kamberova' 'Craig Carreira' 'Vivek Sundaresam' 'Ben Wallace'\n",
      " 'Roger Demir' 'Vicky Freymann' 'Erin Smith' 'Rob Lucas' 'Grace Kelly'\n",
      " 'Jeremy Farry' 'Matthew Grinstein' 'Mike Caudle' 'Michael Granlund'\n",
      " 'Helen Abelman' 'Dennis Bolton' 'Stewart Visinsky' 'Dorothy Badders'\n",
      " 'Alejandro Grove' 'Nick Radford' 'Richard Bierner' 'Guy Thornton'\n",
      " 'Erica Smith' 'Christopher Martinez' 'Monica Federle' 'Eugene Barchas'\n",
      " 'Thomas Boland' 'Anna Chung' 'Aaron Bergman' 'Craig Leslie'\n",
      " 'Robert Barroso' 'Shahid Shariari' 'Hallie Redmond' 'Amy Hunt'\n",
      " 'Matt Abelman' 'Bradley Drucker' 'Tom Stivers' 'Frank Preis'\n",
      " 'James Lanier' 'Kelly Williams' 'Ashley Jarboe' 'Chris Selesnick'\n",
      " 'Richard Eichhorn' 'Sharelle Roach' 'Tony Molinari' 'Alan Haines'\n",
      " 'Alan Barnes' 'Christina VanderZanden' 'Nicole Hansen' 'Andrew Gjertsen'\n",
      " 'Georgia Rosenberg' 'Marc Harrigan' 'Don Miller' 'Tom Ashbrook'\n",
      " 'Dean Braden' 'Thea Hudgings' 'Michael Stewart' 'Darren Budd'\n",
      " 'Stephanie Ulpright' 'Roy Franzšsisch' 'Steve Chapman'\n",
      " 'Michelle Lonsdale' 'Trudy Glocke' 'Roger Barcio' 'Sung Shariari'\n",
      " 'Dave Hallsten' 'Barry Weirich' 'Fred Hopkins' 'Shaun Chance'\n",
      " 'Juliana Krohn' 'Mitch Gastineau' 'Craig Reiter' 'Katrina Bavinger'\n",
      " 'Brian Stugart' 'Philisse Overcash' 'Ruben Ausman' 'Bryan Davis'\n",
      " 'Allen Goldenen' 'Scot Wooten' 'Benjamin Farhat' 'Susan Pistek'\n",
      " 'Justin Ritter' 'Thomas Brumley' \"Anthony O'Donnell\" 'Eileen Kiefer'\n",
      " 'Deborah Brumfield' 'Chuck Magee' 'Yana Sorensen' 'Jennifer Ferguson'\n",
      " 'Lori Olson' 'Max Engle' 'Maria Zettner' 'Tracy Poddar' 'Liz Willingham'\n",
      " 'Xylona Preis' 'Shahid Hopkins' 'Tonja Turnell' 'Erin Creighton'\n",
      " 'Brendan Sweed' 'Katherine Nockton' 'Shirley Schmidt' 'Sibella Parks'\n",
      " 'Odella Nelson' 'Mike Vittorini' 'Victoria Pisteka' 'Paul MacIntyre'\n",
      " 'Tamara Willingham' 'Theresa Coyne' 'Pamela Stobb' 'Scot Coram'\n",
      " 'Shui Tom' 'Anemone Ratner' 'Craig Yedwab' 'Annie Thurman' 'Alex Grayson'\n",
      " 'Victoria Brennan' 'Sean Christensen' 'Jill Stevenson' 'Arthur Wiediger'\n",
      " 'Christy Brittain' \"Doug O'Connell\" 'Michael Nguyen' 'Stephanie Phelps'\n",
      " 'Alex Russell' 'Alex Avila' 'Cindy Chapman' 'Toby Carlisle'\n",
      " 'Bill Stewart' 'Rob Beeghly' 'Tim Brockman' 'Jim Mitchum' 'Fred Chung'\n",
      " 'John Murray' 'Nicole Brennan' 'Elpida Rittenbach' 'Luke Weiss'\n",
      " 'Pauline Webber' 'Gene McClure' 'Don Weiss' 'Toby Gnade' 'Jim Sink'\n",
      " 'Trudy Schmidt' 'Dan Campbell' 'Phillina Ober' 'Evan Minnotte'\n",
      " 'Clay Rozendal' 'Candace McMahon' 'Craig Molinari' 'Lindsay Castell'\n",
      " 'Cyra Reiten' \"Russell D'Ascenzo\" 'Cindy Schnelling' 'John Dryer'\n",
      " 'Pete Takahito' 'Liz Preis' 'George Zrebassa' 'Giulietta Weimer'\n",
      " 'Steve Carroll' 'Mark Haberlin' 'Eva Jacobs' 'Brian Derr' 'Harold Engle'\n",
      " 'Nora Paige' 'Erin Mull' 'Andy Gerbode' 'Henry MacAllister'\n",
      " 'Bart Pistole' 'Sarah Brown' 'Corey Roper' 'David Flashing' 'Jack Lebron'\n",
      " 'Jennifer Halladay' 'Jack Garza' 'Neil Ducich' 'Lisa Ryan' 'Khloe Miller'\n",
      " 'Fred McMath' 'Heather Jas' 'John Huston' 'Alice McCarthy'\n",
      " 'Sally Matthias' 'Dave Poirier' 'Mitch Webber' 'Christina DeMoss'\n",
      " 'Chris McAfee' 'Patrick Bzostek' 'Rachel Payne' 'Evan Bailliet'\n",
      " 'Susan MacKendrick' 'Barry Franz' 'Frank Carlisle' 'Joseph Holt'\n",
      " 'Brad Thomas' 'Quincy Jones' 'Barry Gonzalez' 'Sung Chung'\n",
      " 'Ionia McGrath']\n",
      "Segment ['Consumer' 'Corporate' 'Home Office']\n",
      "Country ['United States']\n",
      "City ['Henderson' 'Fort Lauderdale' 'Los Angeles' 'Philadelphia' 'Orem'\n",
      " 'Richardson' 'Houston' 'New Albany' 'Troy' 'Chicago' 'Memphis' 'Columbia'\n",
      " 'Minneapolis' 'New York City' 'Aurora' 'Seattle' 'Wilmington'\n",
      " 'Bloomington' 'Roseville' 'Newark' 'Franklin' 'San Antonio' 'Denver'\n",
      " 'Medina' 'Dublin' 'Detroit' 'Tampa' 'Lakeville' 'San Francisco'\n",
      " 'Columbus' 'Colorado Springs' 'Belleville' 'Arvada' 'Hackensack'\n",
      " 'Murfreesboro' 'Manchester' 'Pembroke Pines' 'Lawrence' 'Jackson'\n",
      " 'Canton' 'Akron' 'Concord' 'Decatur' 'Phoenix' 'Park Ridge' 'Amarillo'\n",
      " 'Costa Mesa' 'Parker' 'Gladstone' 'Lakeland' 'Fort Worth' 'Jacksonville'\n",
      " 'Richmond' 'San Diego' 'Dearborn' 'Warner Robins' 'Vallejo' 'Vancouver'\n",
      " 'Arlington' 'Cleveland' 'Tyler' 'Waynesboro' 'Long Beach' 'Dover'\n",
      " 'Oceanside' 'Trenton' 'Saint Petersburg' 'Des Moines' 'Lancaster'\n",
      " 'Lake Elsinore' 'Omaha' 'Edmonds' 'Santa Ana' 'Florence' 'Louisville'\n",
      " 'Lorain' 'Springfield' 'Rochester' 'Norwich' 'Milwaukee' 'Torrance'\n",
      " 'Mesa' 'Round Rock' 'Auburn' 'Olympia' 'Washington' 'Jefferson City'\n",
      " 'Saint Peters' 'Rockford' 'Miami' 'Yonkers' 'Monroe' 'Encinitas'\n",
      " 'Jonesboro' 'Cuyahoga Falls' 'Harrisonburg' 'Rockville' 'Coral Springs'\n",
      " 'Boynton Beach' 'Fresno' 'Chester' 'La Porte' 'Pasadena' 'Evanston'\n",
      " 'Tucson' 'Pico Rivera' 'Provo' 'Smyrna' 'Middletown' 'Vineland'\n",
      " 'Glendale' 'North Las Vegas' 'Allentown' 'Laguna Niguel' 'Everett'\n",
      " 'Watertown' 'El Paso' 'Peoria' 'Carrollton' 'Kent' 'Lafayette' 'Oakland'\n",
      " 'Suffolk' 'Madison' 'San Jose' 'Redmond' 'Muskogee' 'Charlotte'\n",
      " 'Bowling Green' 'Spokane' 'Fairfield' 'Broomfield' 'Montgomery'\n",
      " 'Brentwood' 'Providence' 'Pomona' 'Ontario' 'Moorhead' 'Redlands'\n",
      " 'Sunnyvale' 'Lansing' 'Grand Prairie' 'York' 'College Station' 'Dallas'\n",
      " 'Cincinnati' 'Laredo' 'San Angelo' 'Little Rock' 'Marion' 'Littleton'\n",
      " 'Bangor' 'Southaven' 'Roswell' 'Sioux Falls' 'Sacramento' 'Huntsville'\n",
      " 'Holyoke' 'Farmington' 'Passaic' 'Fayetteville' 'Mishawaka' 'Westfield'\n",
      " 'Scottsdale' 'Malden' 'Bellingham' 'Alexandria' 'Wheeling' 'Raleigh'\n",
      " 'Tulsa' 'Hesperia' 'Gilbert' 'Lowell' 'Hialeah' 'Lakewood' 'Bakersfield'\n",
      " 'Pompano Beach' 'Corpus Christi' 'Redondo Beach' 'Las Cruces'\n",
      " 'Chesapeake' 'Woodstock' 'Atlanta' 'Tempe' 'Lake Charles' 'Highland Park'\n",
      " 'Saginaw' 'Skokie' 'Allen' 'Mount Pleasant' 'Murray' 'Pharr'\n",
      " 'West Jordan' 'Brownsville' 'Lincoln Park' 'Gresham' 'Chattanooga'\n",
      " 'Meridian' 'Austin' 'Tallahassee' 'Fort Collins' 'Gulfport' 'Quincy'\n",
      " 'Bristol' 'Mission Viejo' 'Las Vegas' 'Hempstead' 'Tinley Park' 'Dubuque'\n",
      " 'Inglewood' 'Revere' 'Dearborn Heights' 'Mobile' 'Carol Stream'\n",
      " 'Saint Cloud' 'Plano' 'Macon' 'Plantation' 'Clinton' 'Toledo' 'Mesquite'\n",
      " 'Odessa' 'West Allis' 'Chula Vista' 'Greensboro' 'Champaign' 'Harlingen'\n",
      " 'Greenwood' 'Nashville' 'Woonsocket' 'Kenosha' 'Port Saint Lucie'\n",
      " 'Miramar' 'Fremont' 'Freeport' 'Boise' 'Cranston' 'Baltimore'\n",
      " 'Port Arthur' 'Citrus Heights' 'Bullhead City' 'New Rochelle'\n",
      " 'San Gabriel' 'Hamilton' 'Sandy Springs' 'Mentor' 'Lawton' 'Hampton'\n",
      " 'Rome' 'Manteca' 'Danville' 'Waterbury' 'Buffalo' 'Pasco' 'Marietta'\n",
      " 'Parma' 'League City' 'Gaithersburg' 'Oklahoma City' 'Burlington'\n",
      " 'Deltona' 'Anaheim' 'Chandler' 'Kirkwood' 'Taylor' 'Midland' 'Waco'\n",
      " 'Texarkana' 'Bethlehem' 'Garland' 'Knoxville' 'Wichita' 'Oak Park'\n",
      " 'Palm Coast' 'Olathe' 'Draper' 'La Crosse' 'Morristown' 'Apple Valley'\n",
      " 'Salem' 'Pocatello' 'Apopka' 'Milford' 'Buffalo Grove' 'Lake Forest'\n",
      " 'Conway' 'Meriden' 'Cheyenne' 'Reading' 'Hattiesburg' 'Caldwell' 'Nashua'\n",
      " 'Georgetown' 'Sierra Vista' 'Lubbock' 'Portland' 'Hendersonville' 'Chico'\n",
      " 'Eugene' 'Oxnard' 'Westland' 'Orlando' 'Elmhurst' 'Texas City'\n",
      " 'Virginia Beach' 'Charlottesville' 'Wilson' 'Rio Rancho' 'Hot Springs'\n",
      " 'Paterson' 'Thousand Oaks' 'El Cajon' 'Naperville' 'North Charleston'\n",
      " 'Longview' 'Normal' 'Salinas' 'Saint Charles' 'Tuscaloosa' 'Superior'\n",
      " 'Helena' 'Bellevue' 'Des Plaines' 'Burbank' 'Camarillo' 'Tigard'\n",
      " 'Covington' 'Westminster' 'Longmont' 'Greenville' 'Newport News'\n",
      " 'Bossier City' 'Thornton' 'Morgan Hill' 'Clifton' 'Cambridge'\n",
      " 'East Point' 'Modesto' 'Rapid City' 'Durham' 'Daytona Beach' 'Andover'\n",
      " 'Athens' 'Danbury' 'Noblesville' 'Clarksville' 'Frisco' 'Sanford'\n",
      " 'San Marcos' 'Greeley' 'Mansfield' 'Hillsboro' 'Twin Falls' 'Utica'\n",
      " 'Stockton' 'Coral Gables' 'Green Bay' 'Marlborough' 'Hollywood' 'Laurel'\n",
      " 'Eau Claire' 'Perth Amboy' 'Mcallen' 'Moreno Valley' 'Broken Arrow'\n",
      " 'Beaumont' 'Mason' 'Santa Barbara' 'Bryan' 'San Bernardino'\n",
      " 'Indianapolis']\n",
      "State ['Kentucky' 'Florida' 'California' 'Pennsylvania' 'Utah' 'Texas' 'Indiana'\n",
      " 'New York' 'Illinois' 'Tennessee' 'South Carolina' 'Minnesota' 'Colorado'\n",
      " 'Washington' 'Delaware' 'Ohio' 'Wisconsin' 'Michigan' 'New Jersey'\n",
      " 'Connecticut' 'Massachusetts' 'Mississippi' 'Arizona' 'Missouri'\n",
      " 'Georgia' 'Virginia' 'Iowa' 'Nebraska' 'New Hampshire'\n",
      " 'District of Columbia' 'North Carolina' 'Arkansas' 'Maryland' 'Alabama'\n",
      " 'Nevada' 'Louisiana' 'Oregon' 'Oklahoma' 'Rhode Island' 'Maine'\n",
      " 'South Dakota' 'New Mexico' 'Idaho' 'Vermont' 'Kansas' 'Wyoming'\n",
      " 'Montana' 'West Virginia']\n",
      "Postal Code [42420 33311 90032 19140 84057 75080 77041 47150 12180 90004 60610 38109\n",
      " 77070 29203 55407 10009 80013 10035 98103 19805 61701 95661 43055 53132\n",
      " 98115 78207 80219 37064 44256 43017 48227 38401 33614 55044 94109 60623\n",
      " 43229 80906  7109 10024 80004  7601 37130 19143 94122  6040  2038 33024\n",
      " 77036 94110 98105  1841 39212 48187 47201 44312 94521 62521 85023 60068\n",
      " 79109 90045 92627 80134 64118 48234 33801 90036 76106 32216 40475 92024\n",
      " 10011 48126 31088 94591 98661 60505 76017 44105 60653 75701 22980 90805\n",
      " 19901 48205 11572 92105 48183 33710 22204 50315 93534 23223 92530 68104\n",
      " 98026 92704 41042 40214 44052 22153  3301 14609  6360 53209 90503 85204\n",
      " 19120 78664 92054 19134 80027 13021 92037 98502 20016 65109 63376 61107\n",
      " 33142 77095 10701 28110 90049 72401 44221 22801 20852 33065 33437 93727\n",
      " 19013 46350 31907 91104 90008 60201 85705 90660 84604 30080 35630  6457\n",
      "  8360 77506 85301 89031 18103 92677  2149 13601 79907 61604 75007 98031\n",
      " 70506 94601 23434 53711 95123 98002 97756 74403 28205 42104 89015 99207\n",
      " 11561 45014 33178 97477 80020 36116 94513 65807 36830  2908 55901 85345\n",
      " 47374 91767 91761 56560 92374 94086 48911  3820 75051 17403 77840 75081\n",
      " 45231 78041 76903 72209 17602 43302 80122  4401 38671 30076 57103 95823\n",
      " 77340  1040 87401  7055 28314 46544  7090 85254  2148 98226 47905 22304\n",
      " 60090 27604 74133 92345 85234  1852 33012 44107 19711 93309 33068 78415\n",
      " 90278 88001 23320 60098 30318 85281 70601 60035 48601 60076 75002 29464\n",
      " 42071 78577 84084 78521 48146 97030 71203 37421 83642 75217 78745 32303\n",
      " 80525  6824 39503  2169  6010 92691 89115 11550 60477 52001 43130 90301\n",
      "  2151 48127 36608 60188 56301 75023 75220 49201 21044 31204 45503 33317\n",
      " 20735 43615 75150 79762 53214 91911 27405 28540 37620 61821 78550 46142\n",
      " 37211 90712  2895 53142 34952 33023 68025 11520 83704  2920 21215 61032\n",
      " 38301  8701 77642 95610 86442 10801 91776 45011 30328 44060 73505 23666\n",
      " 13440 95336 94526 48858  6708 14215 99301 30062 44134 77573 20877 73120\n",
      " 27217 32725 92804 85224 63122 48180 48640 76706 71854 18018  5408 75043\n",
      " 37918 67212 48237 32137 66062 84020 54601 33180  7960 92307 97301 83201\n",
      " 32712  6460 94533 60089 92630 28027 55113 72032  6450 82001 47401 35601\n",
      " 72701 19601 39401 83605 29501  3060 40324 85635 79424 97206 37075 95928\n",
      " 24153 97405 93030 48185 32839 60126 77590 23464 22901 27893 87124 71901\n",
      " 37167  7501 91360 92020 60540 29406 98632 61761 93905 63301 35401 60174\n",
      " 54880 59601 98006 60016 91505 93010 97224 98042 92683 80501 27834 23602\n",
      " 71111 80229 95037  7011  2138 30344 95351 57701 27707 32114  1810 30605\n",
      "  6810 46060 37042 75034 32771 78666 80634 76063 97123 83301 13501 95207\n",
      " 33134 54302  1752 33021 98198 45373 20707 54703  8861 65203 78501 92553\n",
      " 26003 74012 77705 77571 45040 93101 52302 77803 92404 46203]\n",
      "Region ['South' 'West' 'East' 'Central']\n",
      "Product ID ['FUR-BO-10001798' 'FUR-CH-10000454' 'FUR-TA-10000577' 'FUR-FU-10001487'\n",
      " 'FUR-TA-10001539' 'FUR-CH-10002774' 'FUR-BO-10004834' 'FUR-FU-10004848'\n",
      " 'FUR-FU-10003664' 'FUR-BO-10002545' 'FUR-CH-10004218' 'FUR-FU-10001706'\n",
      " 'FUR-CH-10003061' 'FUR-CH-10003968' 'FUR-FU-10000397' 'FUR-CH-10001146'\n",
      " 'FUR-CH-10000513' 'FUR-FU-10003708' 'FUR-FU-10000260' 'FUR-FU-10003194'\n",
      " 'FUR-CH-10000863' 'FUR-FU-10003799' 'FUR-FU-10000629' 'FUR-FU-10004006'\n",
      " 'FUR-FU-10001934' 'FUR-TA-10001768' 'FUR-FU-10002157' 'FUR-CH-10004063'\n",
      " 'FUR-TA-10004534' 'FUR-FU-10003773' 'FUR-FU-10000521' 'FUR-CH-10004287'\n",
      " 'FUR-CH-10003817' 'FUR-CH-10004698' 'FUR-BO-10002613' 'FUR-TA-10004289'\n",
      " 'FUR-FU-10002960' 'FUR-BO-10004695' 'FUR-FU-10000087' 'FUR-TA-10003748'\n",
      " 'FUR-CH-10004860' 'FUR-CH-10004477' 'FUR-TA-10001705' 'FUR-TA-10003473'\n",
      " 'FUR-FU-10004017' 'FUR-FU-10000576' 'FUR-FU-10004351' 'FUR-TA-10002607'\n",
      " 'FUR-FU-10002505' 'FUR-CH-10002965' 'FUR-FU-10003274' 'FUR-TA-10002903'\n",
      " 'FUR-BO-10004709' 'FUR-FU-10004091' 'FUR-CH-10001891' 'FUR-FU-10002918'\n",
      " 'FUR-FU-10001861' 'FUR-TA-10002533' 'FUR-FU-10002671' 'FUR-FU-10001918'\n",
      " 'FUR-CH-10004086' 'FUR-FU-10001756' 'FUR-FU-10001588' 'FUR-CH-10002602'\n",
      " 'FUR-FU-10001967' 'FUR-CH-10003312' 'FUR-TA-10004575' 'FUR-BO-10002268'\n",
      " 'FUR-CH-10000785' 'FUR-FU-10000023' 'FUR-TA-10004915' 'FUR-TA-10000617'\n",
      " 'FUR-FU-10001935' 'FUR-TA-10002041' 'FUR-BO-10001972' 'FUR-CH-10003956'\n",
      " 'FUR-CH-10004886' 'FUR-FU-10004712' 'FUR-CH-10000015' 'FUR-FU-10003347'\n",
      " 'FUR-CH-10003396' 'FUR-FU-10000246' 'FUR-CH-10002372' 'FUR-FU-10000206'\n",
      " 'FUR-CH-10000225' 'FUR-CH-10002331' 'FUR-TA-10001889' 'FUR-BO-10002824'\n",
      " 'FUR-BO-10001601' 'FUR-BO-10001337' 'FUR-TA-10001857' 'FUR-FU-10004864'\n",
      " 'FUR-FU-10000073' 'FUR-CH-10001215' 'FUR-FU-10001290' 'FUR-CH-10003379'\n",
      " 'FUR-CH-10000595' 'FUR-FU-10000448' 'FUR-CH-10002647' 'FUR-FU-10000723'\n",
      " 'FUR-CH-10002024' 'FUR-FU-10003039' 'FUR-TA-10004256' 'FUR-FU-10004020'\n",
      " 'FUR-CH-10004997' 'FUR-FU-10001475' 'FUR-FU-10001979' 'FUR-FU-10003849'\n",
      " 'FUR-FU-10000010' 'FUR-CH-10004853' 'FUR-FU-10000221' 'FUR-CH-10001482'\n",
      " 'FUR-FU-10000732' 'FUR-FU-10003096' 'FUR-FU-10002759' 'FUR-TA-10000688'\n",
      " 'FUR-FU-10003553' 'FUR-BO-10004015' 'FUR-FU-10004071' 'FUR-FU-10003394'\n",
      " 'FUR-TA-10002774' 'FUR-BO-10003272' 'FUR-FU-10002253' 'FUR-TA-10000198'\n",
      " 'FUR-FU-10000222' 'FUR-TA-10002228' 'FUR-BO-10001619' 'FUR-FU-10003577'\n",
      " 'FUR-TA-10001095' 'FUR-FU-10004306' 'FUR-CH-10003746' 'FUR-FU-10002597'\n",
      " 'FUR-CH-10002335' 'FUR-BO-10004409' 'FUR-CH-10004675' 'FUR-CH-10003199'\n",
      " 'FUR-FU-10004090' 'FUR-FU-10000794' 'FUR-CH-10001394' 'FUR-CH-10000665'\n",
      " 'FUR-BO-10001519' 'FUR-FU-10003878' 'FUR-FU-10000965' 'FUR-FU-10001424'\n",
      " 'FUR-BO-10003441' 'FUR-TA-10001520' 'FUR-TA-10002356' 'FUR-FU-10003601'\n",
      " 'FUR-TA-10004154' 'FUR-FU-10001940' 'FUR-FU-10004188' 'FUR-FU-10001095'\n",
      " 'FUR-FU-10002885' 'FUR-FU-10001602' 'FUR-FU-10002191' 'FUR-CH-10000309'\n",
      " 'FUR-FU-10003975' 'FUR-BO-10001811' 'FUR-CH-10002304' 'FUR-FU-10000293'\n",
      " 'FUR-FU-10004460' 'FUR-FU-10004622' 'FUR-CH-10002880' 'FUR-TA-10004147'\n",
      " 'FUR-BO-10002206' 'FUR-TA-10004086' 'FUR-FU-10001852' 'FUR-TA-10001932'\n",
      " 'FUR-CH-10002126' 'FUR-FU-10004952' 'FUR-CH-10001270' 'FUR-CH-10003973'\n",
      " 'FUR-FU-10002268' 'FUR-CH-10004540' 'FUR-FU-10001867' 'FUR-FU-10000076'\n",
      " 'FUR-FU-10003268' 'FUR-FU-10003691' 'FUR-TA-10004619' 'FUR-BO-10004467'\n",
      " 'FUR-CH-10001708' 'FUR-FU-10003724' 'FUR-FU-10003535' 'FUR-CH-10001973'\n",
      " 'FUR-BO-10003433' 'FUR-FU-10002554' 'FUR-CH-10003846' 'FUR-FU-10004960'\n",
      " 'FUR-FU-10004018' 'FUR-CH-10002961' 'FUR-TA-10003008' 'FUR-TA-10002958'\n",
      " 'FUR-TA-10001676' 'FUR-TA-10002622' 'FUR-TA-10001039' 'FUR-FU-10003976'\n",
      " 'FUR-CH-10004289' 'FUR-TA-10002530' 'FUR-FU-10001473' 'FUR-CH-10000847'\n",
      " 'FUR-FU-10004270' 'FUR-TA-10003715' 'FUR-FU-10002456' 'FUR-FU-10003981'\n",
      " 'FUR-BO-10000362' 'FUR-FU-10001488' 'FUR-FU-10002937' 'FUR-FU-10004415'\n",
      " 'FUR-FU-10000758' 'FUR-BO-10003965' 'FUR-FU-10002088' 'FUR-BO-10003966'\n",
      " 'FUR-TA-10001307' 'FUR-TA-10004607' 'FUR-BO-10000330' 'FUR-BO-10003159'\n",
      " 'FUR-FU-10001591' 'FUR-CH-10001854' 'FUR-FU-10001196' 'FUR-FU-10002553'\n",
      " 'FUR-CH-10004754' 'FUR-FU-10002878' 'FUR-CH-10000988' 'FUR-FU-10001986'\n",
      " 'FUR-FU-10004973' 'FUR-BO-10001918' 'FUR-FU-10001617' 'FUR-TA-10004175'\n",
      " 'FUR-TA-10004767' 'FUR-FU-10001889' 'FUR-CH-10000155' 'FUR-FU-10004093'\n",
      " 'FUR-FU-10001037' 'FUR-CH-10003981' 'FUR-BO-10000468' 'FUR-CH-10003774'\n",
      " 'FUR-TA-10002855' 'FUR-BO-10003034' 'FUR-CH-10003833' 'FUR-FU-10003142'\n",
      " 'FUR-TA-10003954' 'FUR-BO-10002213' 'FUR-FU-10003623' 'FUR-FU-10002364'\n",
      " 'FUR-TA-10003238' 'FUR-CH-10002084' 'FUR-FU-10004748' 'FUR-CH-10000553'\n",
      " 'FUR-BO-10002202' 'FUR-FU-10004597' 'FUR-FU-10000308' 'FUR-TA-10001866'\n",
      " 'FUR-TA-10001950' 'FUR-FU-10001468' 'FUR-FU-10002501' 'FUR-CH-10001714'\n",
      " 'FUR-FU-10002298' 'FUR-BO-10000780' 'FUR-TA-10002645' 'FUR-CH-10002439'\n",
      " 'FUR-TA-10000849' 'FUR-FU-10002107' 'FUR-CH-10001190' 'FUR-BO-10003450'\n",
      " 'FUR-FU-10004665' 'FUR-FU-10004909' 'FUR-BO-10004357' 'FUR-FU-10004587'\n",
      " 'FUR-FU-10001847' 'FUR-FU-10002045' 'FUR-FU-10004671' 'FUR-TA-10003569'\n",
      " 'FUR-CH-10002017' 'FUR-FU-10003829' 'FUR-BO-10003404' 'FUR-CH-10003761'\n",
      " 'FUR-FU-10001876' 'FUR-CH-10002758' 'FUR-FU-10001185' 'FUR-FU-10003832'\n",
      " 'FUR-FU-10000409' 'FUR-FU-10001546' 'FUR-FU-10000771' 'FUR-FU-10002116'\n",
      " 'FUR-CH-10000422' 'FUR-FU-10002685' 'FUR-FU-10004963' 'FUR-CH-10004875'\n",
      " 'FUR-FU-10000305' 'FUR-FU-10002445' 'FUR-CH-10001797' 'FUR-FU-10000755'\n",
      " 'FUR-FU-10000550' 'FUR-FU-10004666' 'FUR-CH-10002320' 'FUR-FU-10003247'\n",
      " 'FUR-TA-10003837' 'FUR-FU-10002379' 'FUR-BO-10003660' 'FUR-FU-10003464'\n",
      " 'FUR-FU-10004586' 'FUR-CH-10004495' 'FUR-FU-10002963' 'FUR-FU-10000193'\n",
      " 'FUR-BO-10002916' 'FUR-TA-10004152' 'FUR-FU-10000672' 'FUR-BO-10002598'\n",
      " 'FUR-FU-10000320' 'FUR-CH-10003535' 'FUR-FU-10003919' 'FUR-FU-10002703'\n",
      " 'FUR-BO-10001608' 'FUR-BO-10000112' 'FUR-FU-10001731' 'FUR-FU-10003026'\n",
      " 'FUR-CH-10004983' 'FUR-TA-10003469' 'FUR-CH-10003606' 'FUR-CH-10003298'\n",
      " 'FUR-FU-10004164' 'FUR-FU-10004904' 'FUR-FU-10002396' 'FUR-BO-10004218'\n",
      " 'FUR-FU-10001085' 'FUR-FU-10003731' 'FUR-FU-10003798' 'FUR-FU-10001215'\n",
      " 'FUR-BO-10000711' 'FUR-BO-10004360' 'FUR-CH-10000229' 'FUR-BO-10002853'\n",
      " 'FUR-BO-10003894' 'FUR-FU-10003930' 'FUR-FU-10000175' 'FUR-FU-10004053'\n",
      " 'FUR-BO-10004690' 'FUR-BO-10003546' 'FUR-TA-10003392' 'FUR-TA-10004442'\n",
      " 'FUR-FU-10002111' 'FUR-FU-10003424' 'FUR-FU-10002508' 'FUR-FU-10000719'\n",
      " 'FUR-BO-10003893' 'FUR-CH-10000749' 'FUR-FU-10002813' 'FUR-FU-10004845'\n",
      " 'FUR-CH-10001802' 'FUR-CH-10004626' 'FUR-FU-10001025' 'FUR-TA-10001691'\n",
      " 'FUR-FU-10003192' 'FUR-TA-10001771' 'FUR-CH-10002044' 'FUR-TA-10001086'\n",
      " 'FUR-CH-10001545' 'FUR-FU-10004245' 'FUR-FU-10000747' 'FUR-FU-10002874'\n",
      " 'FUR-FU-10003489' 'FUR-FU-10003095' 'FUR-FU-10000820' 'FUR-FU-10002240'\n",
      " 'FUR-FU-10001057' 'FUR-CH-10002073' 'FUR-FU-10000277' 'FUR-FU-10003806'\n",
      " 'FUR-FU-10003374' 'FUR-FU-10002506' 'FUR-BO-10001567' 'FUR-FU-10001379'\n",
      " 'FUR-FU-10002030' 'FUR-CH-10002317' 'FUR-CH-10002780']\n",
      "Category ['Furniture']\n",
      "Sub-Category ['Bookcases' 'Chairs' 'Tables' 'Furnishings']\n",
      "Product Name ['Bush Somerset Collection Bookcase'\n",
      " 'Hon Deluxe Fabric Upholstered Stacking Chairs, Rounded Back'\n",
      " 'Bretford CR4500 Series Slim Rectangular Table'\n",
      " 'Eldon Expressions Wood and Plastic Desk Accessories, Cherry Wood'\n",
      " 'Chromcraft Rectangular Conference Tables'\n",
      " 'Global Deluxe Stacking Chair, Gray'\n",
      " 'Riverside Palais Royal Lawyers Bookcase, Royale Cherry Finish'\n",
      " 'Howard Miller 13-3/4\" Diameter Brushed Chrome Round Wall Clock'\n",
      " \"Electrix Architect's Clamp-On Swing Arm Lamp, Black\"\n",
      " 'Atlantic Metals Mobile 3-Shelf Bookcases, Custom Colors'\n",
      " \"Global Fabric Manager's Chair, Dark Gray\" 'Longer-Life Soft White Bulbs'\n",
      " 'Global Leather Task Chair, Black' 'Novimex Turbo Task Chair'\n",
      " 'Luxo Economy Swing Arm Lamp'\n",
      " \"Global Value Mid-Back Manager's Chair, Gray\"\n",
      " \"High-Back Leather Manager's Chair\"\n",
      " 'Tenex Traditional Chairmats for Medium Pile Carpet, Standard Lip, 36\" x 48\"'\n",
      " '6\" Cubicle Wall Clock, Black'\n",
      " 'Eldon Expressions Desk Accessory, Wood Pencil Holder, Oak'\n",
      " 'Novimex Swivel Fabric Task Chair' 'Seth Thomas 13 1/2\" Wall Clock'\n",
      " '9-3/4 Diameter Round Wall Clock'\n",
      " 'Deflect-o DuraMat Lighweight, Studded, Beveled Mat for Low Pile Carpeting'\n",
      " 'Magnifier Swing Arm Lamp' 'Hon Racetrack Conference Tables'\n",
      " 'Artistic Insta-Plaque' \"Global Deluxe High-Back Manager's Chair\"\n",
      " 'Bevis 44 x 96 Conference Tables' 'Global Task Chair, Black'\n",
      " 'Eldon Cleatmat Plus Chair Mats for High Pile Carpets'\n",
      " 'Seth Thomas 14\" Putty-Colored Wall Clock' 'SAFCO Arco Folding Chair'\n",
      " 'Global Value Steno Chair, Gray' 'Padded Folding Chairs, Black, 4/Carton'\n",
      " 'Atlantic Metals Mobile 4-Shelf Bookcases, Custom Colors'\n",
      " 'BoxOffice By Design Rectangular and Half-Moon Meeting Room Tables'\n",
      " 'Eldon 200 Class Desk Accessories, Burgundy'\n",
      " \"O'Sullivan 2-Door Barrister Bookcase in Odessa Pine\"\n",
      " 'Executive Impressions 14\" Two-Color Numerals Wall Clock'\n",
      " 'Bevis 36 x 72 Conference Tables' 'Global Low Back Tilter Chair'\n",
      " \"Global Push Button Manager's Chair, Indigo\"\n",
      " 'Bush Advantage Collection Round Conference Table'\n",
      " 'Bretford Rectangular Conference Table Tops'\n",
      " 'Tenex Contemporary Contur Chairmats for Low and Medium Pile Carpet, Computer, 39\" x 49\"'\n",
      " 'Luxo Professional Fluorescent Magnifier Lamp with Clamp-Mount Base'\n",
      " 'Staple-based wall hangings' 'KI Conference Tables'\n",
      " 'Eldon 100 Class Desk Accessories'\n",
      " 'Global Leather Highback Executive Chair with Pneumatic Height Adjustment, Black'\n",
      " 'Regeneration Desk Collection' 'Bevis Round Bullnose 29\" High Table Top'\n",
      " 'Bush Westfield Collection Bookcases, Medium Cherry Finish'\n",
      " 'Howard Miller 13\" Diameter Goldtone Round Wall Clock'\n",
      " 'Global Deluxe Office Fabric Chairs'\n",
      " 'Eldon ClusterMat Chair Mat with Cordless Antistatic Protection'\n",
      " 'Floodlight Indoor Halogen Bulbs, 1 Bulb per Pack, 60 Watts'\n",
      " 'BPI Conference Tables'\n",
      " 'Electrix 20W Halogen Replacement Bulb for Zoom-In Desk Lamp'\n",
      " 'C-Line Cubicle Keepers Polyproplyene Holder With Velcro Backings'\n",
      " 'Hon 4070 Series Pagoda Armless Upholstered Stacking Chairs'\n",
      " 'Eldon Expressions Desk Accessory, Wood Photo Frame, Mahogany'\n",
      " 'Deflect-o SuperTray Unbreakable Stackable Tray, Letter, Black'\n",
      " 'DMI Arturo Collection Mission-style Design Wood Chair'\n",
      " 'Telescoping Adjustable Floor Lamp'\n",
      " 'Hon 2090 ÒPillow SoftÓ Series Mid Back Swivel/Tilt Chairs'\n",
      " 'Hon 5100 Series Wood Tables' 'Sauder Barrister Bookcases'\n",
      " 'Global Ergonomic Managers Chair' 'Eldon Wave Desk Accessories'\n",
      " 'Office Impressions End Table, 20-1/2\"H x 24\"W x 20\"D'\n",
      " 'Hon Practical Foundations 30 x 60 Training Table, Light Gray/Charcoal'\n",
      " '3M Hangers With Command Adhesive'\n",
      " 'Bevis Round Conference Table Top, X-Base'\n",
      " \"O'Sullivan 4-Shelf Bookcase in Odessa Pine\"\n",
      " 'Novimex High-Tech Fabric Mesh Task Chair' 'Bevis Steel Folding Chairs'\n",
      " 'Westinghouse Mesh Shade Clip-On Gooseneck Lamp, Black'\n",
      " 'Hon Multipurpose Stacking Arm Chairs' 'Coloredge Poster Frame'\n",
      " 'Global Deluxe Steno Chair' 'Aluminum Document Frame'\n",
      " 'Office Star - Ergonomically Designed Knee Chair'\n",
      " 'GE General Purpose, Extra Long Life, Showcase & Floodlight Incandescent Bulbs'\n",
      " 'Global Geo Office Task Chair, Gray'\n",
      " 'Hon 4700 Series Mobuis Mid-Back Task Chairs with Adjustable Arms'\n",
      " 'Bush Advantage Collection Racetrack Conference Table'\n",
      " 'Bush Mission Pointe Library'\n",
      " 'Sauder Mission Library with Doors, Fruitwood Finish'\n",
      " \"O'Sullivan Living Dimensions 2-Shelf Bookcases\"\n",
      " 'Balt Solid Wood Rectangular Table'\n",
      " 'Howard Miller 14-1/2\" Diameter Chrome Round Wall Clock'\n",
      " 'Deflect-O Glasstique Clear Desk Accessories'\n",
      " 'Global Troy Executive Leather Low-Back Tilter'\n",
      " 'Executive Impressions Supervisor Wall Clock'\n",
      " 'Global Commerce Series High-Back Swivel/Tilt Chairs'\n",
      " 'Safco Contoured Stacking Chairs'\n",
      " 'Tenex Chairmats For Use With Carpeted Floors'\n",
      " 'Situations Contoured Folding Chairs, 4/Set'\n",
      " 'Deflect-o EconoMat Studded, No Bevel Mat for Low Pile Carpeting'\n",
      " 'HON 5400 Series Task Chairs for Big and Tall'\n",
      " 'Howard Miller 11-1/2\" Diameter Grantwood Wall Clock'\n",
      " 'Bretford ÒJust In TimeÓ Height-Adjustable Multi-Task Work Tables'\n",
      " 'Advantus Panel Wall Acrylic Frame'\n",
      " 'Hon Every-Day Series Multi-Task Chairs' 'Contract Clock, 14\", Brown'\n",
      " 'Dana Halogen Swing-Arm Architect Lamp'\n",
      " 'DAX Metal Frame, Desktop, Stepped-Edge'\n",
      " 'DAX Value U-Channel Document Frames, Easel Back'\n",
      " \"Global Manager's Adjustable Task Chair, Storm\"\n",
      " 'Master Caster Door Stop, Brown'\n",
      " 'Office Star - Mesh Screen back chair with Vinyl seat'\n",
      " 'Eldon 200 Class Desk Accessories'\n",
      " 'Master Giant Foot Doorstop, Safety Yellow'\n",
      " '12-1/2 Diameter Round Wall Clock'\n",
      " 'Chromcraft Bull-Nose Wood Round Conference Table Top, Wood Base'\n",
      " 'Howard Miller 13-1/2\" Diameter Rosebrook Wall Clock'\n",
      " 'Bush Andora Bookcase, Maple/Graphite Gray Finish'\n",
      " 'Luxo Professional Magnifying Clamp-On Fluorescent Lamps'\n",
      " 'Tenex \"The Solids\" Textured Chair Mats' 'Laminate Occasional Tables'\n",
      " \"O'Sullivan Living Dimensions 5-Shelf Bookcases\"\n",
      " 'Howard Miller 13\" Diameter Pewter Finish Round Wall Clock'\n",
      " 'Chromcraft Bull-Nose Wood Oval Conference Tables & Bases'\n",
      " 'Seth Thomas 16\" Steel Case Clock'\n",
      " 'Bevis Traditional Conference Table Top, Plinth Base'\n",
      " \"O'Sullivan Cherrywood Estates Traditional Bookcase\"\n",
      " 'Nu-Dell Leatherette Frames' 'Chromcraft Round Conference Tables'\n",
      " 'Electrix Halogen Magnifier Lamp'\n",
      " 'Hon 4070 Series Pagoda Round Back Stacking Chairs'\n",
      " 'C-Line Magnetic Cubicle Keepers, Clear Polypropylene'\n",
      " 'Hon GuestStacker Chair'\n",
      " 'Safco Value Mate Series Steel Bookcases, Baked Enamel Finish on Steel, Gray'\n",
      " 'Lifetime Advantage Folding Chairs, 4/Carton'\n",
      " 'Office Star - Contemporary Task Swivel Chair'\n",
      " 'Executive Impressions 14\" Contract Wall Clock'\n",
      " 'Eldon Stackable Tray, Side-Load, Legal, Smoke'\n",
      " 'Global Leather Executive Chair'\n",
      " 'Global Airflow Leather Mesh Back Chair, Black'\n",
      " \"O'Sullivan 3-Shelf Heavy-Duty Bookcases\"\n",
      " 'Linden 10\" Round Wall Clock, Black'\n",
      " 'Howard Miller 11-1/2\" Diameter Ridgewood Wall Clock'\n",
      " 'Dax Clear Box Frame'\n",
      " 'Bush Westfield Collection Bookcases, Fully Assembled'\n",
      " 'Lesro Sheffield Collection Coffee Table, End Table, Center Table, Corner Table'\n",
      " 'Bevis Boat-Shaped Conference Table'\n",
      " 'Deflect-o RollaMat Studded, Beveled Mat for Medium Pile Carpeting'\n",
      " 'Riverside Furniture Oval Coffee Table, Oval End Table, End Table with Drawer'\n",
      " 'Luxo Professional Combination Clamp-On Lamps'\n",
      " 'DAX Black Cherry Wood-Tone Poster Frame'\n",
      " 'Magna Visual Magnetic Picture Hangers'\n",
      " 'Eldon Delta Triangular Chair Mat, 52\" x 58\", Clear'\n",
      " 'G.E. Halogen Desk Lamp Bulbs' 'Global Comet Stacking Arm Chair'\n",
      " 'Eldon Advantage Chair Mats for Low to Medium Pile Carpets'\n",
      " 'Atlantic Metals Mobile 5-Shelf Bookcases, Custom Colors'\n",
      " 'Global Stack Chair without Arms, Black'\n",
      " 'Eldon Antistatic Chair Mats for Low to Medium Pile Carpets'\n",
      " 'Howard Miller 12\" Round Wall Clock'\n",
      " 'Eldon Advantage Foldable Chair Mats for Low Pile Carpets'\n",
      " 'Global High-Back Leather Tilter, Burgundy' 'Hon 4060 Series Tables'\n",
      " 'Bush Saratoga Collection 5-Shelf Bookcase, Hanover Cherry, *Special Order'\n",
      " 'KI Adjustable-Height Table'\n",
      " 'Eldon Regeneration Recycled Desk Accessories, Smoke'\n",
      " 'Chromcraft 48\" x 96\" Racetrack Double Pedestal Table'\n",
      " 'Hon Deluxe Fabric Upholstered Stacking Chairs'\n",
      " 'C-Line Cubicle Keepers Polyproplyene Holder w/Velcro Back, 8-1/2x11, 25/Bx'\n",
      " 'Harbour Creations Steel Folding Chair'\n",
      " 'GuestStacker Chair with Chrome Finish Legs' 'Ultra Door Push Plate'\n",
      " 'Global Chrome Stack Chair'\n",
      " 'Eldon Expressions Punched Metal & Wood Desk Accessories, Pewter & Cherry'\n",
      " '24-Hour Round Wall Clock'\n",
      " 'Eldon Radial Chair Mat for Low to Medium Pile Carpets'\n",
      " 'Eldon Image Series Desk Accessories, Ebony'\n",
      " 'Hon Non-Folding Utility Tables' 'Bestar Classic Bookcase'\n",
      " 'Office Star - Contemporary Swivel Chair with Padded Adjustable Arms and Flex Back'\n",
      " 'Westinghouse Clip-On Gooseneck Lamps'\n",
      " 'Howard Miller Distant Time Traveler Alarm Clock'\n",
      " 'Office Star Flex Back Scooter Chair with White Frame'\n",
      " 'Sauder Cornerstone Collection Library'\n",
      " 'Westinghouse Floor Lamp with Metal Mesh Shade, Black'\n",
      " 'Hon Valutask Swivel Chairs' 'Seth Thomas 12\" Clock w/ Goldtone Case'\n",
      " 'Tensor Computer Mounted Lamp' 'Leather Task Chair, Black'\n",
      " 'Lesro Round Back Collection Coffee Table, End Table'\n",
      " 'Eldon 200 Class Desk Accessories, Black'\n",
      " 'Bevis Oval Conference Table, Walnut'\n",
      " 'Hon 61000 Series Interactive Training Tables'\n",
      " 'Bush Andora Conference Table, Maple/Graphite Gray Finish'\n",
      " 'DAX Executive Solid Wood Document Frame, Desktop or Hang, Mahogany, 5 x 7'\n",
      " 'Global Super Steno Chair' 'Iceberg OfficeWorks 42\" Round Tables'\n",
      " 'DAX Wood Document Frame' \"Global Executive Mid-Back Manager's Chair\"\n",
      " 'Eldon Image Series Desk Accessories, Burgundy'\n",
      " 'Hon 2111 Invitation Series Corner Table'\n",
      " 'Master Caster Door Stop, Large Neon Orange'\n",
      " 'Sauder Inglewood Library Bookcases'\n",
      " 'Tenex 46\" x 60\" Computer Anti-Static Chairmat, Rectangular Shaped'\n",
      " 'GE 48\" Fluorescent Tube, Cool White Energy Saver, 34 Watts, 30/Box'\n",
      " 'Stacking Tray, Side-Loading, Legal, Smoke'\n",
      " 'DAX Natural Wood-Tone Poster Frame'\n",
      " \"O'Sullivan Manor Hill 2-Door Library in Brianna Oak\"\n",
      " 'Nu-Dell Float Frame 11 x 14 1/2'\n",
      " 'Sauder Facets Collection Library, Sky Alder Finish'\n",
      " 'SAFCO PlanMaster Heigh-Adjustable Drafting Table Base, 43w x 30d x 30-37h, Black'\n",
      " 'Hon 2111 Invitation Series Straight Table'\n",
      " 'Sauder Camden County Barrister Bookcase, Planked Cherry Finish'\n",
      " 'Sauder Camden County Collection Libraries, Planked Cherry Finish'\n",
      " 'Advantus Panel Wall Certificate Holder - 8.5x11'\n",
      " 'Office Star - Professional Matrix Back Chair with 2-to-1 Synchro Tilt and Mesh Fabric Seat'\n",
      " 'DAX Cubicle Frames - 8x10'\n",
      " 'Electrix Incandescent Magnifying Lamp, Black'\n",
      " 'Global Stack Chair with Arms, Black'\n",
      " 'Seth Thomas 14\" Day/Date Wall Clock' 'Hon Olson Stacker Stools'\n",
      " 'Dana Fluorescent Magnifying Lamp, White, 36\"' 'Flat Face Poster Frame'\n",
      " 'Sauder Forest Hills Library with Doors, Woodland Oak Finish'\n",
      " 'Executive Impressions 8-1/2\" Career Panel/Partition Cubicle Clock'\n",
      " 'Hon 30\" x 60\" Table with Locking Drawer' 'Safco Drafting Table'\n",
      " 'Ultra Door Pull Handle' 'Global Comet Stacking Armless Chair'\n",
      " 'Hand-Finished Solid Wood Document Frame'\n",
      " 'DAX Charcoal/Nickel-Tone Document Frame, 5 x 7'\n",
      " 'Global Commerce Series Low-Back Swivel/Tilt Chairs'\n",
      " \"O'Sullivan 2-Shelf Heavy-Duty Bookcases\"\n",
      " \"Global Wood Trimmed Manager's Task Chair, Khaki\"\n",
      " 'Bevis Round Conference Table Top & Single Column Base'\n",
      " \"O'Sullivan Elevations Bookcase, Cherry Finish\"\n",
      " 'Novimex Fabric Task Chair' 'Master Big Foot Doorstop, Beige'\n",
      " 'Hon 94000 Series Round Tables' 'DMI Eclipse Executive Suite Bookcases'\n",
      " 'DataProducts Ampli Magnifier Task Lamp, Black,'\n",
      " 'Eldon Expressions Wood Desk Accessories, Oak'\n",
      " 'Chromcraft Bull-Nose Wood 48\" x 96\" Rectangular Conference Tables'\n",
      " \"Hon Mobius Operator's Chair\"\n",
      " 'Howard Miller 16\" Diameter Gallery Wall Clock'\n",
      " 'Eldon Executive Woodline II Desk Accessories, Mahogany'\n",
      " 'Metal Folding Chairs, Beige, 4/Carton'\n",
      " 'Atlantic Metals Mobile 2-Shelf Bookcases, Custom Colors'\n",
      " 'Eldon Cleatmat Chair Mats for Medium Pile Carpets'\n",
      " 'Deflect-o Glass Clear Studded Chair Mats'\n",
      " 'Bevis Round Conference Room Tables and Bases'\n",
      " 'Balt Solid Wood Round Tables' 'Tenex Antistatic Computer Chair Mats'\n",
      " 'Nu-Dell Executive Frame'\n",
      " 'Global Leather & Oak Executive Chair, Burgundy'\n",
      " 'Rubbermaid ClusterMat Chairmats, Mat Size- 66\" x 60\", Lip 20\" x 11\" -90 Degree Angle'\n",
      " 'DAX Solid Wood Frames'\n",
      " \"O'Sullivan Plantations 2-Door Library in Landvery Oak\"\n",
      " 'Hon Rectangular Conference Tables'\n",
      " 'Iceberg Nesting Folding Chair, 19w x 6d x 43h'\n",
      " 'Bevis Rectangular Conference Tables' 'Eldon Pizzaz Desk Accessories'\n",
      " 'Sauder Forest Hills Library, Woodland Oak Finish'\n",
      " 'Global Deluxe High-Back Office Chair in Storm'\n",
      " 'Bush Westfield Collection Bookcases, Dark Cherry Finish'\n",
      " '3M Polarizing Task Lamp with Clamp Arm, Light Gray'\n",
      " 'Contemporary Wood/Metal Frame'\n",
      " \"O'Sullivan Living Dimensions 3-Shelf Bookcases\"\n",
      " 'GE General Use Halogen Bulbs, 100 Watts, 1 Bulb per Pack'\n",
      " 'Eldon Image Series Black Desk Accessories' 'Executive Impressions 14\"'\n",
      " 'Executive Impressions 12\" Wall Clock'\n",
      " 'Bretford CR8500 Series Meeting Room Furniture'\n",
      " 'SAFCO Optional Arm Kit for Workspace Cribbage Stacking Chair'\n",
      " 'Stackable Trays' 'Executive Impressions 13\" Clairmont Wall Clock'\n",
      " 'Global Adaptabilites Bookcase, Cherry/Storm Gray Finish'\n",
      " 'Global Italian Leather Office Chair' 'Computer Room Manger, 14\"'\n",
      " 'Hon Deluxe Fabric Upholstered Stacking Chairs, Squared Back'\n",
      " 'Advantus Employee of the Month Certificate Frame, 11 x 13-1/2'\n",
      " 'Eldon Expressions Punched Metal & Wood Desk Accessories, Black & Cherry'\n",
      " 'GE 4 Foot Flourescent Tube, 40 Watt' 'Dana Swing-Arm Lamps'\n",
      " 'Eldon 200 Class Desk Accessories, Smoke'\n",
      " 'Tenex Carpeted, Granite-Look or Clear Contemporary Contour Shape Chair Mats'\n",
      " 'Global Highback Leather Tilter in Burgundy'\n",
      " 'Executive Impressions 13-1/2\" Indoor/Outdoor Wall Clock'\n",
      " 'Eldon 400 Class Desk Accessories, Black Carbon'\n",
      " 'Harbour Creations 67200 Series Stacking Chairs'\n",
      " 'Tenex V2T-RE Standard Weight Series Chair Mat, 45\" x 53\", Lip 25\" x 12\"'\n",
      " 'DAX Two-Tone Rosewood/Black Document Frame, Desktop, 5 x 7'\n",
      " 'Safco Chair Connectors, 6/Carton'\n",
      " 'Eldon Expressions Mahogany Wood Desk Collection' 'Stacking Trays by OIC'\n",
      " 'DAX Clear Channel Poster Frame' 'Hon Pagoda Stacking Chairs'\n",
      " '36X48 HARDFLOOR CHAIRMAT'\n",
      " 'Anderson Hickey Conga Table Tops & Accessories'\n",
      " 'Eldon Econocleat Chair Mats for Low Pile Carpets'\n",
      " 'Bush Cubix Collection Bookcases, Fully Assembled'\n",
      " 'Seth Thomas 8 1/2\" Cubicle Clock'\n",
      " 'G.E. Longer-Life Indoor Recessed Floodlight Bulbs'\n",
      " 'Global Leather and Oak Executive Chair, Black'\n",
      " 'Master Caster Door Stop, Gray'\n",
      " 'Tenex Chairmats For Use with Hard Floors'\n",
      " 'Rush Hierlooms Collection 1\" Thick Stackable Bookcases'\n",
      " 'Barricks 18\" x 48\" Non-Folding Utility Table with Bottom Storage Shelf'\n",
      " 'Executive Impressions 10\" Spectator Wall Clock'\n",
      " 'Hon Metal Bookcases, Putty' 'OIC Stacking Trays'\n",
      " 'Global Armless Task Chair, Royal Blue'\n",
      " 'Eldon Executive Woodline II Cherry Finish Desk Accessories'\n",
      " 'Tenex Traditional Chairmats for Hard Floors, Average Lip, 36\" x 48\"'\n",
      " 'Hon Metal Bookcases, Black'\n",
      " 'Bush Birmingham Collection Bookcase, Dark Cherry'\n",
      " 'Acrylic Self-Standing Desk Frames'\n",
      " 'Eldon Regeneration Recycled Desk Accessories, Black'\n",
      " 'Office Star - Mid Back Dual function Ergonomic High Back Chair with 2-Way Adjustable Arms'\n",
      " 'Balt Split Level Computer Training Table' 'SAFCO Folding Chair Trolley'\n",
      " 'Office Star - Contemporary Task Swivel chair with Loop Arms, Charcoal'\n",
      " 'Executive Impressions 13\" Chairman Wall Clock'\n",
      " 'Eldon 300 Class Desk Accessories, Black'\n",
      " 'Eldon \"L\" Workstation Diamond Chairmat'\n",
      " 'DAX Copper Panel Document Frame, 5 x 7 Size'\n",
      " 'Bush Heritage Pine Collection 5-Shelf Bookcase, Albany Pine Finish, *Special Order'\n",
      " '3M Polarizing Light Filter Sleeves'\n",
      " 'Eldon Expressions Wood and Plastic Desk Accessories, Oak'\n",
      " 'Ultra Door Kickplate, 8\"H x 34\"W'\n",
      " 'Howard Miller 11-1/2\" Diameter Brentwood Wall Clock'\n",
      " 'Hon Metal Bookcases, Gray'\n",
      " 'Rush Hierlooms Collection Rich Wood Bookcases'\n",
      " 'Global Enterprise Series Seating High-Back Swivel/Tilt Chairs'\n",
      " \"O'Sullivan 5-Shelf Heavy-Duty Bookcases\"\n",
      " 'Safco Value Mate Steel Bookcase, Baked Enamel Finish on Steel, Black'\n",
      " 'Howard Miller 12-3/4 Diameter Accuwave DS  Wall Clock'\n",
      " 'DAX Wood Document Frame.' 'DAX Two-Tone Silver Metal Document Frame'\n",
      " \"O'Sullivan Cherrywood Estates Traditional Barrister Bookcase\"\n",
      " 'Hon 4-Shelf Metal Bookcases' 'Global Adaptabilities Conference Tables'\n",
      " 'Riverside Furniture Stanwyck Manor Table Series'\n",
      " 'Master Caster Door Stop, Large Brown' 'Nu-Dell Oak Frame'\n",
      " 'Document Clip Frames' 'DAX Cubicle Frames, 8-1/2 x 11'\n",
      " 'Sauder Camden County Collection Library'\n",
      " 'Office Star - Ergonomic Mid Back Chair with 2-Way Adjustable Arms'\n",
      " 'DAX Contemporary Wood Frame with Silver Metal Mat, Desktop, 11 x 14 Size'\n",
      " 'Deflect-o EconoMat Nonstudded, No Bevel Mat'\n",
      " 'Hon Every-Day Chair Series Swivel Task Chairs'\n",
      " 'Office Star Flex Back Scooter Chair with Aluminum Finish Frame'\n",
      " 'Eldon Imˆge Series Desk Accessories, Clear'\n",
      " 'Barricks Non-Folding Utility Table with Steel Legs, Laminate Tops'\n",
      " 'Eldon 500 Class Desk Accessories' 'Luxo Adjustable Task Clamp Lamp'\n",
      " 'Bush Cubix Conference Tables, Fully Assembled'\n",
      " 'Office Star - Contemporary Task Swivel chair with 2-way adjustable arms, Plum'\n",
      " 'SAFCO PlanMaster Boards, 60w x 37-1/2d, White Melamine'\n",
      " 'Hon Comfortask Task/Swivel Chairs' 'Career Cubicle Clock, 8 1/4\", Black'\n",
      " 'Tenex B1-RE Series Chair Mats for Low Pile Carpets'\n",
      " 'Ultra Commercial Grade Dual Valve Door Closer'\n",
      " 'Contemporary Borderless Frame' 'Linden 12\" Wall Clock With Oak Frame'\n",
      " 'Tensor Brushed Steel Torchiere Floor Lamp'\n",
      " 'Nu-Dell EZ-Mount Plastic Wall Frames' 'Tensor Track Tree Floor Lamp'\n",
      " 'Hon Olson Stacker Chairs'\n",
      " 'Deflect-o DuraMat Antistatic Studded Beveled Mat for Medium Pile Carpeting'\n",
      " 'Tenex Chairmat w/ Average Lip, 45\" x 53\"'\n",
      " 'Electrix Fluorescent Magnifier Lamps & Weighted Base'\n",
      " 'Tensor \"Hersey Kiss\" Styled Floor Lamp'\n",
      " 'Bush Westfield Collection Bookcases, Dark Cherry Finish, Fully Assembled'\n",
      " 'Executive Impressions 16-1/2\" Circular Wall Clock'\n",
      " 'Executive Impressions 14\" Contract Wall Clock with Quartz Movement'\n",
      " 'Global Enterprise Series Seating Low-Back Swivel/Tilt Chairs'\n",
      " 'Office Star - Task Chair with Contemporary Loop Arms']\n",
      "Sales [  26196   73194 9575775 ... 3834656     134   25248]\n",
      "Quantity [ 2  3  5  7  9  1  4  8  6 14 13 10 11 12]\n",
      "Discount [ 0 45  2  3  5  6 32  1 15  4  7]\n",
      "Profit [ 419136  219582 -383031 ...  102588    6432   41028]\n"
     ]
    }
   ],
   "source": [
    "for i in data.columns :\n",
    "    print(i, data[i].unique())"
   ]
  },
  {
   "cell_type": "code",
   "execution_count": 64,
   "metadata": {},
   "outputs": [
    {
     "data": {
      "text/html": [
       "<div>\n",
       "<style scoped>\n",
       "    .dataframe tbody tr th:only-of-type {\n",
       "        vertical-align: middle;\n",
       "    }\n",
       "\n",
       "    .dataframe tbody tr th {\n",
       "        vertical-align: top;\n",
       "    }\n",
       "\n",
       "    .dataframe thead th {\n",
       "        text-align: right;\n",
       "    }\n",
       "</style>\n",
       "<table border=\"1\" class=\"dataframe\">\n",
       "  <thead>\n",
       "    <tr style=\"text-align: right;\">\n",
       "      <th></th>\n",
       "      <th>Order ID</th>\n",
       "      <th>Order Date</th>\n",
       "      <th>Ship Date</th>\n",
       "      <th>Ship Mode</th>\n",
       "      <th>Customer ID</th>\n",
       "      <th>Customer Name</th>\n",
       "      <th>Segment</th>\n",
       "      <th>Country</th>\n",
       "      <th>City</th>\n",
       "      <th>State</th>\n",
       "      <th>Postal Code</th>\n",
       "      <th>Region</th>\n",
       "      <th>Product ID</th>\n",
       "      <th>Category</th>\n",
       "      <th>Sub-Category</th>\n",
       "      <th>Product Name</th>\n",
       "      <th>Sales</th>\n",
       "      <th>Quantity</th>\n",
       "      <th>Discount</th>\n",
       "      <th>Profit</th>\n",
       "    </tr>\n",
       "  </thead>\n",
       "  <tbody>\n",
       "    <tr>\n",
       "      <th>1369</th>\n",
       "      <td>CA-2014-113880</td>\n",
       "      <td>2014-03-01</td>\n",
       "      <td>2014-03-05</td>\n",
       "      <td>Standard Class</td>\n",
       "      <td>VF-21715</td>\n",
       "      <td>Vicky Freymann</td>\n",
       "      <td>Home Office</td>\n",
       "      <td>United States</td>\n",
       "      <td>Elmhurst</td>\n",
       "      <td>Illinois</td>\n",
       "      <td>60126</td>\n",
       "      <td>Central</td>\n",
       "      <td>FUR-CH-10000863</td>\n",
       "      <td>Furniture</td>\n",
       "      <td>Chairs</td>\n",
       "      <td>Novimex Swivel Fabric Task Chair</td>\n",
       "      <td>634116</td>\n",
       "      <td>6</td>\n",
       "      <td>3</td>\n",
       "      <td>-1721172</td>\n",
       "    </tr>\n",
       "    <tr>\n",
       "      <th>1537</th>\n",
       "      <td>US-2014-131275</td>\n",
       "      <td>2014-03-18</td>\n",
       "      <td>2014-03-24</td>\n",
       "      <td>Standard Class</td>\n",
       "      <td>SC-20050</td>\n",
       "      <td>Sample Company A</td>\n",
       "      <td>Home Office</td>\n",
       "      <td>United States</td>\n",
       "      <td>Burbank</td>\n",
       "      <td>California</td>\n",
       "      <td>91505</td>\n",
       "      <td>West</td>\n",
       "      <td>FUR-FU-10004597</td>\n",
       "      <td>Furniture</td>\n",
       "      <td>Furnishings</td>\n",
       "      <td>Eldon Cleatmat Chair Mats for Medium Pile Carpets</td>\n",
       "      <td>111</td>\n",
       "      <td>2</td>\n",
       "      <td>0</td>\n",
       "      <td>1443</td>\n",
       "    </tr>\n",
       "  </tbody>\n",
       "</table>\n",
       "</div>"
      ],
      "text/plain": [
       "            Order ID Order Date  Ship Date       Ship Mode Customer ID  \\\n",
       "1369  CA-2014-113880 2014-03-01 2014-03-05  Standard Class    VF-21715   \n",
       "1537  US-2014-131275 2014-03-18 2014-03-24  Standard Class    SC-20050   \n",
       "\n",
       "         Customer Name      Segment        Country      City       State  \\\n",
       "1369    Vicky Freymann  Home Office  United States  Elmhurst    Illinois   \n",
       "1537  Sample Company A  Home Office  United States   Burbank  California   \n",
       "\n",
       "      Postal Code   Region       Product ID   Category Sub-Category  \\\n",
       "1369        60126  Central  FUR-CH-10000863  Furniture       Chairs   \n",
       "1537        91505     West  FUR-FU-10004597  Furniture  Furnishings   \n",
       "\n",
       "                                           Product Name   Sales  Quantity  \\\n",
       "1369                   Novimex Swivel Fabric Task Chair  634116         6   \n",
       "1537  Eldon Cleatmat Chair Mats for Medium Pile Carpets     111         2   \n",
       "\n",
       "      Discount   Profit  \n",
       "1369         3 -1721172  \n",
       "1537         0     1443  "
      ]
     },
     "execution_count": 64,
     "metadata": {},
     "output_type": "execute_result"
    }
   ],
   "source": [
    "data.sample(2)"
   ]
  },
  {
   "cell_type": "code",
   "execution_count": 65,
   "metadata": {},
   "outputs": [
    {
     "name": "stdout",
     "output_type": "stream",
     "text": [
      "<class 'pandas.core.frame.DataFrame'>\n",
      "Index: 2120 entries, 0 to 2120\n",
      "Data columns (total 20 columns):\n",
      " #   Column         Non-Null Count  Dtype         \n",
      "---  ------         --------------  -----         \n",
      " 0   Order ID       2120 non-null   object        \n",
      " 1   Order Date     2120 non-null   datetime64[ns]\n",
      " 2   Ship Date      2120 non-null   datetime64[ns]\n",
      " 3   Ship Mode      2120 non-null   object        \n",
      " 4   Customer ID    2120 non-null   object        \n",
      " 5   Customer Name  2120 non-null   object        \n",
      " 6   Segment        2120 non-null   object        \n",
      " 7   Country        2120 non-null   object        \n",
      " 8   City           2120 non-null   object        \n",
      " 9   State          2120 non-null   object        \n",
      " 10  Postal Code    2120 non-null   int64         \n",
      " 11  Region         2120 non-null   object        \n",
      " 12  Product ID     2120 non-null   object        \n",
      " 13  Category       2120 non-null   object        \n",
      " 14  Sub-Category   2120 non-null   object        \n",
      " 15  Product Name   2120 non-null   object        \n",
      " 16  Sales          2120 non-null   int64         \n",
      " 17  Quantity       2120 non-null   int64         \n",
      " 18  Discount       2120 non-null   int64         \n",
      " 19  Profit         2120 non-null   int64         \n",
      "dtypes: datetime64[ns](2), int64(5), object(13)\n",
      "memory usage: 347.8+ KB\n"
     ]
    }
   ],
   "source": [
    "data.info()"
   ]
  },
  {
   "cell_type": "markdown",
   "metadata": {},
   "source": [
    "# 1.Menghitung total penjualan untuk setiap kategori dan sub-kategori produk"
   ]
  },
  {
   "cell_type": "code",
   "execution_count": 66,
   "metadata": {},
   "outputs": [
    {
     "data": {
      "image/png": "[encoded data removed]",
      "text/plain": [
       "<Figure size 640x480 with 1 Axes>"
      ]
     },
     "metadata": {},
     "output_type": "display_data"
    }
   ],
   "source": [
    "plt.Figure(figsize=(12,6))\n",
    "sns.barplot(data=data, x='Category', y='Sales')\n",
    "\n",
    "plt.show()"
   ]
  },
  {
   "cell_type": "code",
   "execution_count": 67,
   "metadata": {},
   "outputs": [
    {
     "data": {
      "image/png": "[encoded data removed]",
      "text/plain": [
       "<Figure size 640x480 with 1 Axes>"
      ]
     },
     "metadata": {},
     "output_type": "display_data"
    }
   ],
   "source": [
    "plt.Figure(figsize=(12,6))\n",
    "sns.barplot(data=data, x='Sub-Category', y='Sales')\n",
    "\n",
    "plt.show()"
   ]
  },
  {
   "cell_type": "code",
   "execution_count": 68,
   "metadata": {},
   "outputs": [
    {
     "data": {
      "text/html": [
       "<div>\n",
       "<style scoped>\n",
       "    .dataframe tbody tr th:only-of-type {\n",
       "        vertical-align: middle;\n",
       "    }\n",
       "\n",
       "    .dataframe tbody tr th {\n",
       "        vertical-align: top;\n",
       "    }\n",
       "\n",
       "    .dataframe thead th {\n",
       "        text-align: right;\n",
       "    }\n",
       "</style>\n",
       "<table border=\"1\" class=\"dataframe\">\n",
       "  <thead>\n",
       "    <tr style=\"text-align: right;\">\n",
       "      <th></th>\n",
       "      <th>Category</th>\n",
       "      <th>Sub-Category</th>\n",
       "      <th>Sales</th>\n",
       "    </tr>\n",
       "  </thead>\n",
       "  <tbody>\n",
       "    <tr>\n",
       "      <th>0</th>\n",
       "      <td>Furniture</td>\n",
       "      <td>Bookcases</td>\n",
       "      <td>202537794</td>\n",
       "    </tr>\n",
       "    <tr>\n",
       "      <th>1</th>\n",
       "      <td>Furniture</td>\n",
       "      <td>Chairs</td>\n",
       "      <td>183212705</td>\n",
       "    </tr>\n",
       "    <tr>\n",
       "      <th>2</th>\n",
       "      <td>Furniture</td>\n",
       "      <td>Furnishings</td>\n",
       "      <td>27840885</td>\n",
       "    </tr>\n",
       "    <tr>\n",
       "      <th>3</th>\n",
       "      <td>Furniture</td>\n",
       "      <td>Tables</td>\n",
       "      <td>137518382</td>\n",
       "    </tr>\n",
       "  </tbody>\n",
       "</table>\n",
       "</div>"
      ],
      "text/plain": [
       "    Category Sub-Category      Sales\n",
       "0  Furniture    Bookcases  202537794\n",
       "1  Furniture       Chairs  183212705\n",
       "2  Furniture  Furnishings   27840885\n",
       "3  Furniture       Tables  137518382"
      ]
     },
     "execution_count": 68,
     "metadata": {},
     "output_type": "execute_result"
    }
   ],
   "source": [
    "data_penjualan = data.groupby(['Category', 'Sub-Category'])['Sales'].sum().reset_index()\n",
    "data_penjualan"
   ]
  },
  {
   "cell_type": "code",
   "execution_count": 69,
   "metadata": {},
   "outputs": [
    {
     "name": "stderr",
     "output_type": "stream",
     "text": [
      "C:\\Users\\Deon Harefa\\AppData\\Local\\Temp\\ipykernel_14724\\32777293.py:2: FutureWarning:\n",
      "\n",
      "\n",
      "\n",
      "Passing `palette` without assigning `hue` is deprecated and will be removed in v0.14.0. Assign the `x` variable to `hue` and set `legend=False` for the same effect.\n",
      "\n",
      "\n"
     ]
    },
    {
     "data": {
      "image/png": "[encoded data removed]",
      "text/plain": [
       "<Figure size 640x480 with 1 Axes>"
      ]
     },
     "metadata": {},
     "output_type": "display_data"
    }
   ],
   "source": [
    "plt.Figure(figsize=(12,7))\n",
    "sns.barplot(data=data_penjualan, x='Sub-Category', y='Sales', palette='pastel')\n",
    "plt.title('Total Penjualan Barang')\n",
    "plt.xlabel('Nama Barang')\n",
    "plt.ylabel('Total Penjualan')\n",
    "plt.savefig('Grafik Total Penjualan Barang')\n",
    "\n",
    "\n",
    "plt.show()"
   ]
  },
  {
   "cell_type": "markdown",
   "metadata": {},
   "source": [
    "Pada grafik ini menunjukkan bahwa penjualan yang paling tinggi yaitu Boocases dengan total penjualan yang mencapai sekitar 2 juta lebih, ini menjadikan bookcases adalah kategori barang yang paling laku.\n",
    "\n",
    "Disusul dengan chairs dan tables yang memiliki penjualan yang lebih sedikit dibandingkan bookcases, tetapi lebih tinggi daripada furnishings.\n",
    "\n",
    "Diantara semua kategori barang, ada barang yang memiliki penjualan barang yang paling terendah yaitu Tables. Dimana tables ini memiliki penjualan sekitar 250.000 lebih dan ini membuktikan bahwa barang ini kurang diminati."
   ]
  },
  {
   "cell_type": "markdown",
   "metadata": {},
   "source": [
    "# 2.Visualisasi tren penjualan dari waktu ke waktu, misalnya perbulan"
   ]
  },
  {
   "cell_type": "code",
   "execution_count": 70,
   "metadata": {},
   "outputs": [
    {
     "data": {
      "text/plain": [
       "0      2016-11-08\n",
       "1      2016-11-08\n",
       "2      2015-10-11\n",
       "3      2014-06-09\n",
       "4      2014-06-09\n",
       "          ...    \n",
       "2116   2015-03-19\n",
       "2117   2016-12-05\n",
       "2118   2015-09-06\n",
       "2119   2014-01-21\n",
       "2120   2017-02-26\n",
       "Name: Order Date, Length: 2120, dtype: datetime64[ns]"
      ]
     },
     "execution_count": 70,
     "metadata": {},
     "output_type": "execute_result"
    }
   ],
   "source": [
    "data['Order Date']"
   ]
  },
  {
   "cell_type": "code",
   "execution_count": 71,
   "metadata": {},
   "outputs": [],
   "source": [
    "data['Month'] = data['Order Date'].dt.to_period('M')\n",
    "month_sales = data.groupby('Month')['Sales'].sum().reset_index()\n",
    "month_sales['Month'] = month_sales['Month'].dt.to_timestamp()"
   ]
  },
  {
   "cell_type": "code",
   "execution_count": 72,
   "metadata": {},
   "outputs": [
    {
     "data": {
      "application/vnd.plotly.v1+json": {
       "config": {
        "plotlyServerURL": "https://plot.ly"
       },
       "data": [
        {
         "hovertemplate": "Month=%{x}<br>Sales=%{y}<extra></extra>",
         "legendgroup": "",
         "line": {
          "color": "#636efa",
          "dash": "solid"
         },
         "marker": {
          "symbol": "circle"
         },
         "mode": "lines",
         "name": "",
         "orientation": "v",
         "showlegend": false,
         "type": "scatter",
         "x": [
          "2014-01-01T00:00:00",
          "2014-02-01T00:00:00",
          "2014-03-01T00:00:00",
          "2014-04-01T00:00:00",
          "2014-05-01T00:00:00",
          "2014-06-01T00:00:00",
          "2014-07-01T00:00:00",
          "2014-08-01T00:00:00",
          "2014-09-01T00:00:00",
          "2014-10-01T00:00:00",
          "2014-11-01T00:00:00",
          "2014-12-01T00:00:00",
          "2015-01-01T00:00:00",
          "2015-02-01T00:00:00",
          "2015-03-01T00:00:00",
          "2015-04-01T00:00:00",
          "2015-05-01T00:00:00",
          "2015-06-01T00:00:00",
          "2015-07-01T00:00:00",
          "2015-08-01T00:00:00",
          "2015-09-01T00:00:00",
          "2015-10-01T00:00:00",
          "2015-11-01T00:00:00",
          "2015-12-01T00:00:00",
          "2016-01-01T00:00:00",
          "2016-02-01T00:00:00",
          "2016-03-01T00:00:00",
          "2016-04-01T00:00:00",
          "2016-05-01T00:00:00",
          "2016-06-01T00:00:00",
          "2016-07-01T00:00:00",
          "2016-08-01T00:00:00",
          "2016-09-01T00:00:00",
          "2016-10-01T00:00:00",
          "2016-11-01T00:00:00",
          "2016-12-01T00:00:00",
          "2017-01-01T00:00:00",
          "2017-02-01T00:00:00",
          "2017-03-01T00:00:00",
          "2017-04-01T00:00:00",
          "2017-05-01T00:00:00",
          "2017-06-01T00:00:00",
          "2017-07-01T00:00:00",
          "2017-08-01T00:00:00",
          "2017-09-01T00:00:00",
          "2017-10-01T00:00:00",
          "2017-11-01T00:00:00",
          "2017-12-01T00:00:00"
         ],
         "xaxis": "x",
         "y": [
          1354445,
          300577,
          10650244,
          2270062,
          3642169,
          8895167,
          6630309,
          4376649,
          14316853,
          4710542,
          13820415,
          17280962,
          20059970,
          957508,
          19414267,
          7307370,
          9198294,
          4456152,
          7975062,
          10666430,
          9504313,
          16594308,
          24396949,
          16160114,
          3370981,
          1841520,
          7450223,
          7756416,
          4209009,
          7620964,
          6494064,
          17220277,
          50873255,
          6517694,
          29297251,
          16005175,
          2842526,
          4586398,
          7139696,
          12739237,
          13551195,
          22486634,
          6554988,
          10222324,
          17146433,
          17514408,
          25373446,
          17356521
         ],
         "yaxis": "y"
        }
       ],
       "layout": {
        "legend": {
         "tracegroupgap": 0
        },
        "template": {
         "data": {
          "bar": [
           {
            "error_x": {
             "color": "#2a3f5f"
            },
            "error_y": {
             "color": "#2a3f5f"
            },
            "marker": {
             "line": {
              "color": "#E5ECF6",
              "width": 0.5
             },
             "pattern": {
              "fillmode": "overlay",
              "size": 10,
              "solidity": 0.2
             }
            },
            "type": "bar"
           }
          ],
          "barpolar": [
           {
            "marker": {
             "line": {
              "color": "#E5ECF6",
              "width": 0.5
             },
             "pattern": {
              "fillmode": "overlay",
              "size": 10,
              "solidity": 0.2
             }
            },
            "type": "barpolar"
           }
          ],
          "carpet": [
           {
            "aaxis": {
             "endlinecolor": "#2a3f5f",
             "gridcolor": "white",
             "linecolor": "white",
             "minorgridcolor": "white",
             "startlinecolor": "#2a3f5f"
            },
            "baxis": {
             "endlinecolor": "#2a3f5f",
             "gridcolor": "white",
             "linecolor": "white",
             "minorgridcolor": "white",
             "startlinecolor": "#2a3f5f"
            },
            "type": "carpet"
           }
          ],
          "choropleth": [
           {
            "colorbar": {
             "outlinewidth": 0,
             "ticks": ""
            },
            "type": "choropleth"
           }
          ],
          "contour": [
           {
            "colorbar": {
             "outlinewidth": 0,
             "ticks": ""
            },
            "colorscale": [
             [
              0,
              "#0d0887"
             ],
             [
              0.1111111111111111,
              "#46039f"
             ],
             [
              0.2222222222222222,
              "#7201a8"
             ],
             [
              0.3333333333333333,
              "#9c179e"
             ],
             [
              0.4444444444444444,
              "#bd3786"
             ],
             [
              0.5555555555555556,
              "#d8576b"
             ],
             [
              0.6666666666666666,
              "#ed7953"
             ],
             [
              0.7777777777777778,
              "#fb9f3a"
             ],
             [
              0.8888888888888888,
              "#fdca26"
             ],
             [
              1,
              "#f0f921"
             ]
            ],
            "type": "contour"
           }
          ],
          "contourcarpet": [
           {
            "colorbar": {
             "outlinewidth": 0,
             "ticks": ""
            },
            "type": "contourcarpet"
           }
          ],
          "heatmap": [
           {
            "colorbar": {
             "outlinewidth": 0,
             "ticks": ""
            },
            "colorscale": [
             [
              0,
              "#0d0887"
             ],
             [
              0.1111111111111111,
              "#46039f"
             ],
             [
              0.2222222222222222,
              "#7201a8"
             ],
             [
              0.3333333333333333,
              "#9c179e"
             ],
             [
              0.4444444444444444,
              "#bd3786"
             ],
             [
              0.5555555555555556,
              "#d8576b"
             ],
             [
              0.6666666666666666,
              "#ed7953"
             ],
             [
              0.7777777777777778,
              "#fb9f3a"
             ],
             [
              0.8888888888888888,
              "#fdca26"
             ],
             [
              1,
              "#f0f921"
             ]
            ],
            "type": "heatmap"
           }
          ],
          "heatmapgl": [
           {
            "colorbar": {
             "outlinewidth": 0,
             "ticks": ""
            },
            "colorscale": [
             [
              0,
              "#0d0887"
             ],
             [
              0.1111111111111111,
              "#46039f"
             ],
             [
              0.2222222222222222,
              "#7201a8"
             ],
             [
              0.3333333333333333,
              "#9c179e"
             ],
             [
              0.4444444444444444,
              "#bd3786"
             ],
             [
              0.5555555555555556,
              "#d8576b"
             ],
             [
              0.6666666666666666,
              "#ed7953"
             ],
             [
              0.7777777777777778,
              "#fb9f3a"
             ],
             [
              0.8888888888888888,
              "#fdca26"
             ],
             [
              1,
              "#f0f921"
             ]
            ],
            "type": "heatmapgl"
           }
          ],
          "histogram": [
           {
            "marker": {
             "pattern": {
              "fillmode": "overlay",
              "size": 10,
              "solidity": 0.2
             }
            },
            "type": "histogram"
           }
          ],
          "histogram2d": [
           {
            "colorbar": {
             "outlinewidth": 0,
             "ticks": ""
            },
            "colorscale": [
             [
              0,
              "#0d0887"
             ],
             [
              0.1111111111111111,
              "#46039f"
             ],
             [
              0.2222222222222222,
              "#7201a8"
             ],
             [
              0.3333333333333333,
              "#9c179e"
             ],
             [
              0.4444444444444444,
              "#bd3786"
             ],
             [
              0.5555555555555556,
              "#d8576b"
             ],
             [
              0.6666666666666666,
              "#ed7953"
             ],
             [
              0.7777777777777778,
              "#fb9f3a"
             ],
             [
              0.8888888888888888,
              "#fdca26"
             ],
             [
              1,
              "#f0f921"
             ]
            ],
            "type": "histogram2d"
           }
          ],
          "histogram2dcontour": [
           {
            "colorbar": {
             "outlinewidth": 0,
             "ticks": ""
            },
            "colorscale": [
             [
              0,
              "#0d0887"
             ],
             [
              0.1111111111111111,
              "#46039f"
             ],
             [
              0.2222222222222222,
              "#7201a8"
             ],
             [
              0.3333333333333333,
              "#9c179e"
             ],
             [
              0.4444444444444444,
              "#bd3786"
             ],
             [
              0.5555555555555556,
              "#d8576b"
             ],
             [
              0.6666666666666666,
              "#ed7953"
             ],
             [
              0.7777777777777778,
              "#fb9f3a"
             ],
             [
              0.8888888888888888,
              "#fdca26"
             ],
             [
              1,
              "#f0f921"
             ]
            ],
            "type": "histogram2dcontour"
           }
          ],
          "mesh3d": [
           {
            "colorbar": {
             "outlinewidth": 0,
             "ticks": ""
            },
            "type": "mesh3d"
           }
          ],
          "parcoords": [
           {
            "line": {
             "colorbar": {
              "outlinewidth": 0,
              "ticks": ""
             }
            },
            "type": "parcoords"
           }
          ],
          "pie": [
           {
            "automargin": true,
            "type": "pie"
           }
          ],
          "scatter": [
           {
            "fillpattern": {
             "fillmode": "overlay",
             "size": 10,
             "solidity": 0.2
            },
            "type": "scatter"
           }
          ],
          "scatter3d": [
           {
            "line": {
             "colorbar": {
              "outlinewidth": 0,
              "ticks": ""
             }
            },
            "marker": {
             "colorbar": {
              "outlinewidth": 0,
              "ticks": ""
             }
            },
            "type": "scatter3d"
           }
          ],
          "scattercarpet": [
           {
            "marker": {
             "colorbar": {
              "outlinewidth": 0,
              "ticks": ""
             }
            },
            "type": "scattercarpet"
           }
          ],
          "scattergeo": [
           {
            "marker": {
             "colorbar": {
              "outlinewidth": 0,
              "ticks": ""
             }
            },
            "type": "scattergeo"
           }
          ],
          "scattergl": [
           {
            "marker": {
             "colorbar": {
              "outlinewidth": 0,
              "ticks": ""
             }
            },
            "type": "scattergl"
           }
          ],
          "scattermapbox": [
           {
            "marker": {
             "colorbar": {
              "outlinewidth": 0,
              "ticks": ""
             }
            },
            "type": "scattermapbox"
           }
          ],
          "scatterpolar": [
           {
            "marker": {
             "colorbar": {
              "outlinewidth": 0,
              "ticks": ""
             }
            },
            "type": "scatterpolar"
           }
          ],
          "scatterpolargl": [
           {
            "marker": {
             "colorbar": {
              "outlinewidth": 0,
              "ticks": ""
             }
            },
            "type": "scatterpolargl"
           }
          ],
          "scatterternary": [
           {
            "marker": {
             "colorbar": {
              "outlinewidth": 0,
              "ticks": ""
             }
            },
            "type": "scatterternary"
           }
          ],
          "surface": [
           {
            "colorbar": {
             "outlinewidth": 0,
             "ticks": ""
            },
            "colorscale": [
             [
              0,
              "#0d0887"
             ],
             [
              0.1111111111111111,
              "#46039f"
             ],
             [
              0.2222222222222222,
              "#7201a8"
             ],
             [
              0.3333333333333333,
              "#9c179e"
             ],
             [
              0.4444444444444444,
              "#bd3786"
             ],
             [
              0.5555555555555556,
              "#d8576b"
             ],
             [
              0.6666666666666666,
              "#ed7953"
             ],
             [
              0.7777777777777778,
              "#fb9f3a"
             ],
             [
              0.8888888888888888,
              "#fdca26"
             ],
             [
              1,
              "#f0f921"
             ]
            ],
            "type": "surface"
           }
          ],
          "table": [
           {
            "cells": {
             "fill": {
              "color": "#EBF0F8"
             },
             "line": {
              "color": "white"
             }
            },
            "header": {
             "fill": {
              "color": "#C8D4E3"
             },
             "line": {
              "color": "white"
             }
            },
            "type": "table"
           }
          ]
         },
         "layout": {
          "annotationdefaults": {
           "arrowcolor": "#2a3f5f",
           "arrowhead": 0,
           "arrowwidth": 1
          },
          "autotypenumbers": "strict",
          "coloraxis": {
           "colorbar": {
            "outlinewidth": 0,
            "ticks": ""
           }
          },
          "colorscale": {
           "diverging": [
            [
             0,
             "#8e0152"
            ],
            [
             0.1,
             "#c51b7d"
            ],
            [
             0.2,
             "#de77ae"
            ],
            [
             0.3,
             "#f1b6da"
            ],
            [
             0.4,
             "#fde0ef"
            ],
            [
             0.5,
             "#f7f7f7"
            ],
            [
             0.6,
             "#e6f5d0"
            ],
            [
             0.7,
             "#b8e186"
            ],
            [
             0.8,
             "#7fbc41"
            ],
            [
             0.9,
             "#4d9221"
            ],
            [
             1,
             "#276419"
            ]
           ],
           "sequential": [
            [
             0,
             "#0d0887"
            ],
            [
             0.1111111111111111,
             "#46039f"
            ],
            [
             0.2222222222222222,
             "#7201a8"
            ],
            [
             0.3333333333333333,
             "#9c179e"
            ],
            [
             0.4444444444444444,
             "#bd3786"
            ],
            [
             0.5555555555555556,
             "#d8576b"
            ],
            [
             0.6666666666666666,
             "#ed7953"
            ],
            [
             0.7777777777777778,
             "#fb9f3a"
            ],
            [
             0.8888888888888888,
             "#fdca26"
            ],
            [
             1,
             "#f0f921"
            ]
           ],
           "sequentialminus": [
            [
             0,
             "#0d0887"
            ],
            [
             0.1111111111111111,
             "#46039f"
            ],
            [
             0.2222222222222222,
             "#7201a8"
            ],
            [
             0.3333333333333333,
             "#9c179e"
            ],
            [
             0.4444444444444444,
             "#bd3786"
            ],
            [
             0.5555555555555556,
             "#d8576b"
            ],
            [
             0.6666666666666666,
             "#ed7953"
            ],
            [
             0.7777777777777778,
             "#fb9f3a"
            ],
            [
             0.8888888888888888,
             "#fdca26"
            ],
            [
             1,
             "#f0f921"
            ]
           ]
          },
          "colorway": [
           "#636efa",
           "#EF553B",
           "#00cc96",
           "#ab63fa",
           "#FFA15A",
           "#19d3f3",
           "#FF6692",
           "#B6E880",
           "#FF97FF",
           "#FECB52"
          ],
          "font": {
           "color": "#2a3f5f"
          },
          "geo": {
           "bgcolor": "white",
           "lakecolor": "white",
           "landcolor": "#E5ECF6",
           "showlakes": true,
           "showland": true,
           "subunitcolor": "white"
          },
          "hoverlabel": {
           "align": "left"
          },
          "hovermode": "closest",
          "mapbox": {
           "style": "light"
          },
          "paper_bgcolor": "white",
          "plot_bgcolor": "#E5ECF6",
          "polar": {
           "angularaxis": {
            "gridcolor": "white",
            "linecolor": "white",
            "ticks": ""
           },
           "bgcolor": "#E5ECF6",
           "radialaxis": {
            "gridcolor": "white",
            "linecolor": "white",
            "ticks": ""
           }
          },
          "scene": {
           "xaxis": {
            "backgroundcolor": "#E5ECF6",
            "gridcolor": "white",
            "gridwidth": 2,
            "linecolor": "white",
            "showbackground": true,
            "ticks": "",
            "zerolinecolor": "white"
           },
           "yaxis": {
            "backgroundcolor": "#E5ECF6",
            "gridcolor": "white",
            "gridwidth": 2,
            "linecolor": "white",
            "showbackground": true,
            "ticks": "",
            "zerolinecolor": "white"
           },
           "zaxis": {
            "backgroundcolor": "#E5ECF6",
            "gridcolor": "white",
            "gridwidth": 2,
            "linecolor": "white",
            "showbackground": true,
            "ticks": "",
            "zerolinecolor": "white"
           }
          },
          "shapedefaults": {
           "line": {
            "color": "#2a3f5f"
           }
          },
          "ternary": {
           "aaxis": {
            "gridcolor": "white",
            "linecolor": "white",
            "ticks": ""
           },
           "baxis": {
            "gridcolor": "white",
            "linecolor": "white",
            "ticks": ""
           },
           "bgcolor": "#E5ECF6",
           "caxis": {
            "gridcolor": "white",
            "linecolor": "white",
            "ticks": ""
           }
          },
          "title": {
           "x": 0.05
          },
          "xaxis": {
           "automargin": true,
           "gridcolor": "white",
           "linecolor": "white",
           "ticks": "",
           "title": {
            "standoff": 15
           },
           "zerolinecolor": "white",
           "zerolinewidth": 2
          },
          "yaxis": {
           "automargin": true,
           "gridcolor": "white",
           "linecolor": "white",
           "ticks": "",
           "title": {
            "standoff": 15
           },
           "zerolinecolor": "white",
           "zerolinewidth": 2
          }
         }
        },
        "title": {
         "text": "Grafik Penjualan Per-Bulan",
         "x": 0.5
        },
        "xaxis": {
         "anchor": "y",
         "domain": [
          0,
          1
         ],
         "title": {
          "text": "Bulan"
         }
        },
        "yaxis": {
         "anchor": "x",
         "domain": [
          0,
          1
         ],
         "title": {
          "text": "Total Penjualan"
         }
        }
       }
      }
     },
     "metadata": {},
     "output_type": "display_data"
    }
   ],
   "source": [
    "fig = px.line(month_sales, x = 'Month',\n",
    "        y = 'Sales', \n",
    "        title = 'Grafik Penjualan Per-Bulan')\n",
    "\n",
    "fig.update_layout(xaxis_title = 'Bulan', yaxis_title = 'Total Penjualan',\n",
    "                  title_x = 0.5,\n",
    "                  )"
   ]
  },
  {
   "cell_type": "markdown",
   "metadata": {},
   "source": [
    "- Secara keseluruhan, grafik menunjukan total penjualan dari januari 2014 sampai juli 2017, terjadi beberapa periode mengalaimi peningkatan maupun penurunan secara segnifikan.\n",
    "\n",
    "- Lonjakan penjualan yang paling mencolok terjadi pada tahun 2016 lebih spesifik pada september 2016, mungkin disebabkan dengan beberapa faktor tertentu.\n",
    "\n",
    "- Lonjakan penurunan yang paling mencolok setelah terjadi lonjakan penjualan yang paling mencolok terjadi pada bulan oktober 2016. Mungkin disebabkan beberapa faktor tertentu.\n",
    "\n",
    "- Yang menjadi catatan meningkatkan strategi penjualanan untuk mengatasi penurunan pasca-lonjakan dan memastikan pertumbuhan penjualan konsisten"
   ]
  },
  {
   "cell_type": "markdown",
   "metadata": {},
   "source": [
    "# 3.Hitung profit per produk untuk menentukan produk yang paling menguntungkan"
   ]
  },
  {
   "cell_type": "code",
   "execution_count": 73,
   "metadata": {},
   "outputs": [
    {
     "data": {
      "text/html": [
       "<div>\n",
       "<style scoped>\n",
       "    .dataframe tbody tr th:only-of-type {\n",
       "        vertical-align: middle;\n",
       "    }\n",
       "\n",
       "    .dataframe tbody tr th {\n",
       "        vertical-align: top;\n",
       "    }\n",
       "\n",
       "    .dataframe thead th {\n",
       "        text-align: right;\n",
       "    }\n",
       "</style>\n",
       "<table border=\"1\" class=\"dataframe\">\n",
       "  <thead>\n",
       "    <tr style=\"text-align: right;\">\n",
       "      <th></th>\n",
       "      <th>Product Name</th>\n",
       "      <th>Profit</th>\n",
       "    </tr>\n",
       "  </thead>\n",
       "  <tbody>\n",
       "    <tr>\n",
       "      <th>175</th>\n",
       "      <td>Global Deluxe High-Back Manager's Chair</td>\n",
       "      <td>15585910</td>\n",
       "    </tr>\n",
       "    <tr>\n",
       "      <th>217</th>\n",
       "      <td>Hon 4070 Series Pagoda Armless Upholstered Sta...</td>\n",
       "      <td>13886348</td>\n",
       "    </tr>\n",
       "    <tr>\n",
       "      <th>313</th>\n",
       "      <td>Office Star - Professional Matrix Back Chair w...</td>\n",
       "      <td>11792928</td>\n",
       "    </tr>\n",
       "    <tr>\n",
       "      <th>218</th>\n",
       "      <td>Hon 4070 Series Pagoda Round Back Stacking Chairs</td>\n",
       "      <td>10528144</td>\n",
       "    </tr>\n",
       "    <tr>\n",
       "      <th>263</th>\n",
       "      <td>Lifetime Advantage Folding Chairs, 4/Carton</td>\n",
       "      <td>9922640</td>\n",
       "    </tr>\n",
       "    <tr>\n",
       "      <th>...</th>\n",
       "      <td>...</td>\n",
       "      <td>...</td>\n",
       "    </tr>\n",
       "    <tr>\n",
       "      <th>211</th>\n",
       "      <td>Hon 2090 ÒPillow SoftÓ Series Mid Back Swivel/...</td>\n",
       "      <td>-8246763</td>\n",
       "    </tr>\n",
       "    <tr>\n",
       "      <th>21</th>\n",
       "      <td>Balt Solid Wood Round Tables</td>\n",
       "      <td>-12010581</td>\n",
       "    </tr>\n",
       "    <tr>\n",
       "      <th>321</th>\n",
       "      <td>Riverside Palais Royal Lawyers Bookcase, Royal...</td>\n",
       "      <td>-15813591</td>\n",
       "    </tr>\n",
       "    <tr>\n",
       "      <th>42</th>\n",
       "      <td>Bush Advantage Collection Racetrack Conference...</td>\n",
       "      <td>-19343976</td>\n",
       "    </tr>\n",
       "    <tr>\n",
       "      <th>63</th>\n",
       "      <td>Chromcraft Bull-Nose Wood Oval Conference Tabl...</td>\n",
       "      <td>-28761156</td>\n",
       "    </tr>\n",
       "  </tbody>\n",
       "</table>\n",
       "<p>380 rows × 2 columns</p>\n",
       "</div>"
      ],
      "text/plain": [
       "                                          Product Name    Profit\n",
       "175            Global Deluxe High-Back Manager's Chair  15585910\n",
       "217  Hon 4070 Series Pagoda Armless Upholstered Sta...  13886348\n",
       "313  Office Star - Professional Matrix Back Chair w...  11792928\n",
       "218  Hon 4070 Series Pagoda Round Back Stacking Chairs  10528144\n",
       "263        Lifetime Advantage Folding Chairs, 4/Carton   9922640\n",
       "..                                                 ...       ...\n",
       "211  Hon 2090 ÒPillow SoftÓ Series Mid Back Swivel/...  -8246763\n",
       "21                        Balt Solid Wood Round Tables -12010581\n",
       "321  Riverside Palais Royal Lawyers Bookcase, Royal... -15813591\n",
       "42   Bush Advantage Collection Racetrack Conference... -19343976\n",
       "63   Chromcraft Bull-Nose Wood Oval Conference Tabl... -28761156\n",
       "\n",
       "[380 rows x 2 columns]"
      ]
     },
     "execution_count": 73,
     "metadata": {},
     "output_type": "execute_result"
    }
   ],
   "source": [
    "profit_produk = data.groupby('Product Name')['Profit'].sum().reset_index().sort_values(by = 'Profit', ascending=False)\n",
    "profit_produk"
   ]
  },
  {
   "cell_type": "markdown",
   "metadata": {},
   "source": [
    "\n",
    "- Produk yang paling menguntungkan adalah 'Global Deluxe High-Back Manager's Chair' memilik profit tertinggi sebesar 15.585.910 ini menunjukkan produk yang paling menguntungkan diatara produk lainnya.\n",
    "\n",
    "- Produk 'Global Deluxe High-Back Manager's Chair' produk yang memiliki daya tarik pasar yang lebih besar atau biaya yang lebih rendah dibandingankan dengan yang lain.\n",
    "\n",
    "- Prduk 'Global Deluxe High-Back Manager's Chair' yang paling menguntungkan dapat membantu dalam merencanakan strategi penjualan dan pemasaran mungkin dengan cara meningkatkan kuantitas atau kualitas produk tersebut. Fokus pada produk dengan profit tinggi dapat meningkatkan keseluruhan profitabilitas bisnis."
   ]
  }
 ],
 "metadata": {
  "kernelspec": {
   "display_name": "Python 3",
   "language": "python",
   "name": "python3"
  },
  "language_info": {
   "codemirror_mode": {
    "name": "ipython",
    "version": 3
   },
   "file_extension": ".py",
   "mimetype": "text/x-python",
   "name": "python",
   "nbconvert_exporter": "python",
   "pygments_lexer": "ipython3",
   "version": "3.12.1"
  }
 },
 "nbformat": 4,
 "nbformat_minor": 2
}
